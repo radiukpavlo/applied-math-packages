{
 "cells": [
  {
   "cell_type": "markdown",
   "metadata": {},
   "source": [
    "<h1><center>Лабораторна робота 1.</center></h1>\n",
    "<h2><center>Аналіз доходу населення за набором даних Adult Data Set</center></h2>"
   ]
  },
  {
   "cell_type": "markdown",
   "metadata": {},
   "source": [
    "**Виконав:** Прізвище І.П.\n",
    "\n",
    "**Варіант:** №__"
   ]
  },
  {
   "cell_type": "markdown",
   "metadata": {},
   "source": [
    "<a class=\"anchor\" id=\"1\"></a>"
   ]
  },
  {
   "cell_type": "markdown",
   "metadata": {},
   "source": [
    "## Зміст\n",
    "\n",
    "1. [Завантаження і знайомство з даними](#1.1)\n",
    "2. [Завдання](#1.2)"
   ]
  },
  {
   "cell_type": "markdown",
   "metadata": {},
   "source": [
    "<a class=\"anchor\" id=\"1.1\"></a>"
   ]
  },
  {
   "cell_type": "markdown",
   "metadata": {},
   "source": [
    "## 1.1. Завантаження і знайомство з даними\n",
    "\n",
    "[Повернутися до змісту](#1)"
   ]
  },
  {
   "cell_type": "markdown",
   "metadata": {},
   "source": [
    "У лабораторній роботі пропонується за допомогою Pandas відповісти на кілька запитань за набором даних [Adult](https://archive.ics.uci.edu/ml/datasets/adult) сховища UCI."
   ]
  },
  {
   "cell_type": "markdown",
   "metadata": {},
   "source": [
    "Унікальні значення ознак набору даниз Adult Data Set (більше інформації в описі [Adult](https://archive.ics.uci.edu/ml/datasets/adult)):\n",
    "\n",
    "- age: continuous.\n",
    "- workclass: Private, Self-emp-not-inc, Self-emp-inc, Federal-gov, Local-gov, State-gov, Without-pay, Never-worked.\n",
    "- fnlwgt: continuous.\n",
    "- education: Bachelors, Some-college, 11th, HS-grad, Prof-school, Assoc-acdm, Assoc-voc, 9th, 7th-8th, 12th, Masters, 1st-4th, 10th, Doctorate, 5th-6th, Preschool.\n",
    "- education-num: continuous.\n",
    "- marital-status: Married-civ-spouse, Divorced, Never-married, Separated, Widowed, Married-spouse-absent, Married-AF-spouse.\n",
    "- occupation: Tech-support, Craft-repair, Other-service, Sales, Exec-managerial, Prof-specialty, Handlers-cleaners, Machine-op-inspct, Adm-clerical, Farming-fishing, Transport-moving, Priv-house-serv, Protective-serv, Armed-Forces.\n",
    "- relationship: Wife, Own-child, Husband, Not-in-family, Other-relative, Unmarried.\n",
    "- race: White, Asian-Pac-Islander, Amer-Indian-Eskimo, Other, Black.\n",
    "- sex: Female, Male.\n",
    "- capital-gain: continuous.\n",
    "- capital-loss: continuous.\n",
    "- hours-per-week: continuous.\n",
    "- native-country: United-States, Cambodia, England, Puerto-Rico, Canada, Germany, Outlying-US(Guam-USVI-etc), India, Japan, Greece, South, China, Cuba, Iran, Honduras, Philippines, Italy, Poland, Jamaica, Vietnam, Mexico, Portugal, Ireland, France, Dominican-Republic, Laos, Ecuador, Taiwan, Haiti, Columbia, Hungary, Guatemala, Nicaragua, Scotland, Thailand, Yugoslavia, El-Salvador, Trinadad&Tobago, Peru, Hong, Holand-Netherlands.   \n",
    "- salary: >50K,<=50K"
   ]
  },
  {
   "cell_type": "markdown",
   "metadata": {},
   "source": [
    "Завантажимо `Pandas` та переглянемо вміст набору даних."
   ]
  },
  {
   "cell_type": "code",
   "execution_count": 1,
   "metadata": {},
   "outputs": [],
   "source": [
    "import pandas as pd"
   ]
  },
  {
   "cell_type": "code",
   "execution_count": 2,
   "metadata": {},
   "outputs": [
    {
     "data": {
      "text/html": [
       "<div>\n",
       "<style scoped>\n",
       "    .dataframe tbody tr th:only-of-type {\n",
       "        vertical-align: middle;\n",
       "    }\n",
       "\n",
       "    .dataframe tbody tr th {\n",
       "        vertical-align: top;\n",
       "    }\n",
       "\n",
       "    .dataframe thead th {\n",
       "        text-align: right;\n",
       "    }\n",
       "</style>\n",
       "<table border=\"1\" class=\"dataframe\">\n",
       "  <thead>\n",
       "    <tr style=\"text-align: right;\">\n",
       "      <th></th>\n",
       "      <th>age</th>\n",
       "      <th>workclass</th>\n",
       "      <th>fnlwgt</th>\n",
       "      <th>education</th>\n",
       "      <th>education-num</th>\n",
       "      <th>marital-status</th>\n",
       "      <th>occupation</th>\n",
       "      <th>relationship</th>\n",
       "      <th>race</th>\n",
       "      <th>sex</th>\n",
       "      <th>capital-gain</th>\n",
       "      <th>capital-loss</th>\n",
       "      <th>hours-per-week</th>\n",
       "      <th>native-country</th>\n",
       "      <th>salary</th>\n",
       "    </tr>\n",
       "  </thead>\n",
       "  <tbody>\n",
       "    <tr>\n",
       "      <th>0</th>\n",
       "      <td>39</td>\n",
       "      <td>State-gov</td>\n",
       "      <td>77516</td>\n",
       "      <td>Bachelors</td>\n",
       "      <td>13</td>\n",
       "      <td>Never-married</td>\n",
       "      <td>Adm-clerical</td>\n",
       "      <td>Not-in-family</td>\n",
       "      <td>White</td>\n",
       "      <td>Male</td>\n",
       "      <td>2174</td>\n",
       "      <td>0</td>\n",
       "      <td>40</td>\n",
       "      <td>United-States</td>\n",
       "      <td>&lt;=50K</td>\n",
       "    </tr>\n",
       "    <tr>\n",
       "      <th>1</th>\n",
       "      <td>50</td>\n",
       "      <td>Self-emp-not-inc</td>\n",
       "      <td>83311</td>\n",
       "      <td>Bachelors</td>\n",
       "      <td>13</td>\n",
       "      <td>Married-civ-spouse</td>\n",
       "      <td>Exec-managerial</td>\n",
       "      <td>Husband</td>\n",
       "      <td>White</td>\n",
       "      <td>Male</td>\n",
       "      <td>0</td>\n",
       "      <td>0</td>\n",
       "      <td>13</td>\n",
       "      <td>United-States</td>\n",
       "      <td>&lt;=50K</td>\n",
       "    </tr>\n",
       "    <tr>\n",
       "      <th>2</th>\n",
       "      <td>38</td>\n",
       "      <td>Private</td>\n",
       "      <td>215646</td>\n",
       "      <td>HS-grad</td>\n",
       "      <td>9</td>\n",
       "      <td>Divorced</td>\n",
       "      <td>Handlers-cleaners</td>\n",
       "      <td>Not-in-family</td>\n",
       "      <td>White</td>\n",
       "      <td>Male</td>\n",
       "      <td>0</td>\n",
       "      <td>0</td>\n",
       "      <td>40</td>\n",
       "      <td>United-States</td>\n",
       "      <td>&lt;=50K</td>\n",
       "    </tr>\n",
       "    <tr>\n",
       "      <th>3</th>\n",
       "      <td>53</td>\n",
       "      <td>Private</td>\n",
       "      <td>234721</td>\n",
       "      <td>11th</td>\n",
       "      <td>7</td>\n",
       "      <td>Married-civ-spouse</td>\n",
       "      <td>Handlers-cleaners</td>\n",
       "      <td>Husband</td>\n",
       "      <td>Black</td>\n",
       "      <td>Male</td>\n",
       "      <td>0</td>\n",
       "      <td>0</td>\n",
       "      <td>40</td>\n",
       "      <td>United-States</td>\n",
       "      <td>&lt;=50K</td>\n",
       "    </tr>\n",
       "    <tr>\n",
       "      <th>4</th>\n",
       "      <td>28</td>\n",
       "      <td>Private</td>\n",
       "      <td>338409</td>\n",
       "      <td>Bachelors</td>\n",
       "      <td>13</td>\n",
       "      <td>Married-civ-spouse</td>\n",
       "      <td>Prof-specialty</td>\n",
       "      <td>Wife</td>\n",
       "      <td>Black</td>\n",
       "      <td>Female</td>\n",
       "      <td>0</td>\n",
       "      <td>0</td>\n",
       "      <td>40</td>\n",
       "      <td>Cuba</td>\n",
       "      <td>&lt;=50K</td>\n",
       "    </tr>\n",
       "  </tbody>\n",
       "</table>\n",
       "</div>"
      ],
      "text/plain": [
       "   age         workclass  fnlwgt  education  education-num  \\\n",
       "0   39         State-gov   77516  Bachelors             13   \n",
       "1   50  Self-emp-not-inc   83311  Bachelors             13   \n",
       "2   38           Private  215646    HS-grad              9   \n",
       "3   53           Private  234721       11th              7   \n",
       "4   28           Private  338409  Bachelors             13   \n",
       "\n",
       "       marital-status         occupation   relationship   race     sex  \\\n",
       "0       Never-married       Adm-clerical  Not-in-family  White    Male   \n",
       "1  Married-civ-spouse    Exec-managerial        Husband  White    Male   \n",
       "2            Divorced  Handlers-cleaners  Not-in-family  White    Male   \n",
       "3  Married-civ-spouse  Handlers-cleaners        Husband  Black    Male   \n",
       "4  Married-civ-spouse     Prof-specialty           Wife  Black  Female   \n",
       "\n",
       "   capital-gain  capital-loss  hours-per-week native-country salary  \n",
       "0          2174             0              40  United-States  <=50K  \n",
       "1             0             0              13  United-States  <=50K  \n",
       "2             0             0              40  United-States  <=50K  \n",
       "3             0             0              40  United-States  <=50K  \n",
       "4             0             0              40           Cuba  <=50K  "
      ]
     },
     "execution_count": 2,
     "metadata": {},
     "output_type": "execute_result"
    }
   ],
   "source": [
    "adult_data_url = 'https://raw.githubusercontent.com/radiukpavlo/applied-math-packages/main/02_assignments/app_lab-01_adult_pandas/adult.data.csv'\n",
    "\n",
    "data = pd.read_csv(adult_data_url)\n",
    "data.head()"
   ]
  },
  {
   "cell_type": "markdown",
   "metadata": {},
   "source": [
    "-----\n",
    "<a class=\"anchor\" id=\"1.2\"></a>"
   ]
  },
  {
   "cell_type": "markdown",
   "metadata": {},
   "source": [
    "## 1.2. Завдання\n",
    "\n",
    "[Повернутися до змісту](#1)"
   ]
  },
  {
   "cell_type": "markdown",
   "metadata": {},
   "source": [
    "Варіанти завдань відповідають списку студентв групі. Дайте відповіді на запитання з використанням бібліотеки `Pandas`."
   ]
  },
  {
   "cell_type": "markdown",
   "metadata": {},
   "source": [
    "<span style=\"color:red; font-size:2em;\">Завдання 1</span>\n",
    "\n",
    "Для варіантів 1-10:\n",
    "\n",
    "**Яку кількість чоловіків (ознака *sex*) подано в наборі даних UCI Adult Data Set?**\n",
    "\n",
    "Для варіантів 11-20:\n",
    "\n",
    "**Яку кількість жінок (ознака *sex*) подано в наборі даних UCI Adult Data Set?**"
   ]
  },
  {
   "cell_type": "code",
   "execution_count": 3,
   "metadata": {},
   "outputs": [],
   "source": [
    "# Ваш код тут\n"
   ]
  },
  {
   "cell_type": "markdown",
   "metadata": {},
   "source": [
    "<span style=\"color:red; font-size:2em;\">Завдання 2</span>\n",
    "\n",
    "Для варіантів 1-10:\n",
    "\n",
    "**Який середній вік (ознака *age*) жінок?**\n",
    "\n",
    "Для варіантів 11-20:\n",
    "\n",
    "**Який середній вік (ознака *age*) чоловіків?**"
   ]
  },
  {
   "cell_type": "code",
   "execution_count": 4,
   "metadata": {},
   "outputs": [],
   "source": [
    "# Ваш код тут\n"
   ]
  },
  {
   "cell_type": "markdown",
   "metadata": {},
   "source": [
    "<span style=\"color:red; font-size:2em;\">Завдання 3</span>\n",
    "\n",
    "Для варіантів 1-5:\n",
    "\n",
    "**Яка частка громадян Німеччини (у %, ознака *native-country*) в наборі даних?**\n",
    "\n",
    "Для варіантів 6-10:\n",
    "\n",
    "**Яка частка громадян Мексики (у %, ознака *native-country*) в наборі даних?**\n",
    "\n",
    "Для варіантів 11-15:\n",
    "\n",
    "**Яка частка громадян США (у %, ознака *native-country*) в наборі даних?**\n",
    "\n",
    "Для варіантів 16-20:\n",
    "\n",
    "**Яка частка громадян Ірану (у %, ознака *native-country*) в наборі даних?**"
   ]
  },
  {
   "cell_type": "code",
   "execution_count": 5,
   "metadata": {},
   "outputs": [],
   "source": [
    "# Ваш код тут\n"
   ]
  },
  {
   "cell_type": "markdown",
   "metadata": {},
   "source": [
    "<span style=\"color:red; font-size:2em;\">Завдання 4</span>\n",
    "\n",
    "\n",
    "Для варіантів 1-10:\n",
    "\n",
    "**Які середні значення і середньоквадратичні відхилення віку тих, хто отримує зарплату не більше 50K на рік (ознака *salary*)?**\n",
    "\n",
    "Для варіантів 11-20:\n",
    "\n",
    "**Які середні значення і середньоквадратичні відхилення віку тих, хто отримує зарплату більше 50K на рік (ознака *salary*)?**"
   ]
  },
  {
   "cell_type": "code",
   "execution_count": 6,
   "metadata": {},
   "outputs": [],
   "source": [
    "# Ваш код тут\n"
   ]
  },
  {
   "cell_type": "markdown",
   "metadata": {},
   "source": [
    "<span style=\"color:red; font-size:2em;\">Завдання 5</span>\n",
    "\n",
    "Для варіантів 1-5:\n",
    "\n",
    "**Яка частка людей, що подані в наборі даних, має вік <20 років?**\n",
    "\n",
    "Для варіантів 6-10:\n",
    "\n",
    "**Яка частка людей, що подані в наборі даних, має вік в діапазоні [20; 30) років?**\n",
    "\n",
    "Для варіантів 11-15:\n",
    "\n",
    "**Яка частка людей, що подані в наборі даних, має вік в діапазоні [30; 50) років?**\n",
    "\n",
    "Для варіантів 16-20:\n",
    "\n",
    "**Яка частка людей, що подані в наборі даних, має вік >=50 років?**"
   ]
  },
  {
   "cell_type": "code",
   "execution_count": 7,
   "metadata": {},
   "outputs": [],
   "source": [
    "# Ваш код тут\n"
   ]
  },
  {
   "cell_type": "markdown",
   "metadata": {},
   "source": [
    "<span style=\"color:red; font-size:2em;\">Завдання 6</span>\n",
    "\n",
    "Для варіантів 1-5:\n",
    "\n",
    "**Скільки людей, що отримують >50K, мають вищу освіту?**\n",
    "\n",
    "Для варіантів 6-10:\n",
    "\n",
    "**Скільки людей, що отримують >50K, не мають вищу освіту?**\n",
    "\n",
    "Для варіантів 11-15:\n",
    "\n",
    "**Скільки людей, що отримують <=50K, мають вищу освіту?**\n",
    "\n",
    "Для варіантів 16-20:\n",
    "\n",
    "**Скільки людей, що отримують <=50K, не мають вищу освіту?**\n",
    "\n",
    "**Примітка:** вища освіта відповідає значенням ознаки *education* - Bachelors, Prof-school, Assoc-acdm, Assoc-voc, Masters або Doctorate)"
   ]
  },
  {
   "cell_type": "code",
   "execution_count": 8,
   "metadata": {},
   "outputs": [],
   "source": [
    "# Ваш код тут\n"
   ]
  },
  {
   "cell_type": "markdown",
   "metadata": {},
   "source": [
    "<span style=\"color:red; font-size:2em;\">Завдання 7</span>\n",
    "\n",
    "**Виведіть статистику віку для кожної раси (ознака *race*) та кожної статі (ознака *sex*). Використовуйте `groupby` і `describe`.**\n",
    "\n",
    "Для варіантів 1-5:\n",
    "\n",
    "**Знайдіть у такий спосіб максимальний вік чоловіків раси *Amer-Indian-Eskimo*.**\n",
    "\n",
    "Для варіантів 6-10:\n",
    "\n",
    "**Знайдіть у такий спосіб максимальний вік жінок раси *Asian-Pac-Islander*.**\n",
    "\n",
    "Для варіантів 11-15:\n",
    "\n",
    "**Знайдіть у такий спосіб максимальний вік чоловіків раси *Black*.**\n",
    "\n",
    "Для варіантів 16-20:\n",
    "\n",
    "**Знайдіть у такий спосіб максимальний вік жінок раси *White*.**"
   ]
  },
  {
   "cell_type": "code",
   "execution_count": 9,
   "metadata": {},
   "outputs": [],
   "source": [
    "# Ваш код тут\n"
   ]
  },
  {
   "cell_type": "markdown",
   "metadata": {},
   "source": [
    "<span style=\"color:red; font-size:2em;\">Завдання 8</span>\n",
    "\n",
    "Для варіантів 1-5:\n",
    "\n",
    "**Хто заробляє більше (>50K): одружені чи неодружені чоловіки (ознака *marital-status*)?**\n",
    "\n",
    "Для варіантів 6-10:\n",
    "\n",
    "**Люди з якою освітою заробляють більше (>50K) (ознака *education*)?**\n",
    "\n",
    "Для варіантів 11-15:\n",
    "\n",
    "**Представники якої професії заробляють більше (>50K) (ознака *occupation*)?**\n",
    "\n",
    "Для варіантів 16-20:\n",
    "\n",
    "**Пердставники якого робітничого класу заробляють більше (>50K) (ознака *workclass*)?**\n",
    "\n",
    "***Примітка:*** одруженими вважаємо тих, у кого *marital-status* починається з *Married* (Married-civ-spouse, Married-spouse-absent або Married-AF-spouse), інших вважаємо холостими."
   ]
  },
  {
   "cell_type": "code",
   "execution_count": 10,
   "metadata": {},
   "outputs": [],
   "source": [
    "# Ваш код тут\n"
   ]
  },
  {
   "cell_type": "markdown",
   "metadata": {},
   "source": [
    "<span style=\"color:red; font-size:2em;\">Завдання 9</span>\n",
    "\n",
    "***Для всіх варіантів*: обрахуйте мінімальну та максимальну кількість робочих годин (ознака *hours-per-week*).**\n",
    "\n",
    "Для варіантів 1-5:\n",
    "\n",
    "**Скільки людей працюють максимальну кількість годин і який поміж них відсоток заробляє багато (>50K)?**\n",
    "\n",
    "Для варіантів 6-10:\n",
    "\n",
    "**Скільки людей працюють максимальну кількість годин і який поміж них відсоток заробляє мало (<=50K)?**\n",
    "\n",
    "Для варіантів 11-15:\n",
    "\n",
    "**Скільки людей працюють мінімальну кількість годин і який поміж них відсоток заробляє багато (>50K)?**\n",
    "\n",
    "Для варіантів 16-20:\n",
    "\n",
    "**Скільки людей працюють мінімальну кількість годин і який поміж них відсоток заробляє мало (<=50K)?**"
   ]
  },
  {
   "cell_type": "code",
   "execution_count": 11,
   "metadata": {},
   "outputs": [],
   "source": [
    "# Ваш код тут\n"
   ]
  },
  {
   "cell_type": "markdown",
   "metadata": {},
   "source": [
    "<span style=\"color:red; font-size:2em;\">Завдання 10</span>\n",
    "\n",
    "Для варіантів 1-5:\n",
    "\n",
    "**Обрахуйте середній час роботи (*hours-per-week*) тих людей, хто заробляє мало і багато (*salary*) для кожної країни (*native-country*).**\n",
    "\n",
    "Для варіантів 6-10:\n",
    "\n",
    "**Обрахуйте середній час роботи (*hours-per-week*) тих людей, хто заробляє мало і багато (*salary*) для кожної раси (*race*).**\n",
    "\n",
    "Для варіантів 11-15:\n",
    "\n",
    "**Обрахуйте середній час роботи (*hours-per-week*) тих людей, хто заробляє мало і багато (*salary*) для обох статей (*sex*).**\n",
    "\n",
    "Для варіантів 16-20:\n",
    "\n",
    "**Обрахуйте середній час роботи (*hours-per-week*) тих людей, хто заробляє мало і багато (*salary*) для кожної робочої позиції (*occupation*).**"
   ]
  },
  {
   "cell_type": "code",
   "execution_count": 12,
   "metadata": {
    "tags": []
   },
   "outputs": [],
   "source": [
    "# Ваш код тут\n"
   ]
  }
 ],
 "metadata": {
  "anaconda-cloud": {},
  "kernelspec": {
   "display_name": "Python 3 (ipykernel)",
   "language": "python",
   "name": "python3"
  },
  "language_info": {
   "codemirror_mode": {
    "name": "ipython",
    "version": 3
   },
   "file_extension": ".py",
   "mimetype": "text/x-python",
   "name": "python",
   "nbconvert_exporter": "python",
   "pygments_lexer": "ipython3",
   "version": "3.9.7"
  }
 },
 "nbformat": 4,
 "nbformat_minor": 4
}
