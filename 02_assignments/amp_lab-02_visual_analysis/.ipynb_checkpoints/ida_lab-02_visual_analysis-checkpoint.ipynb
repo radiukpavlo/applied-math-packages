{
 "cells": [
  {
   "cell_type": "markdown",
   "metadata": {},
   "source": [
    "<h1><center>Лабораторна робота 2.</center></h1>\n",
    "<h2><center>Візуальний аналіз даних щодо публікацій на Хабрахабр</center></h2>"
   ]
  },
  {
   "cell_type": "markdown",
   "metadata": {},
   "source": [
    "**Виконав:** Прізвище І.П.\n",
    "\n",
    "**Варіант:** №__"
   ]
  },
  {
   "cell_type": "markdown",
   "metadata": {},
   "source": [
    "<a class=\"anchor\" id=\"2\"></a>"
   ]
  },
  {
   "cell_type": "markdown",
   "metadata": {},
   "source": [
    "## Зміст\n",
    "\n",
    "1. [Завантаження і знайомство з даними](#2.1)\n",
    "2. [Завдання](#2.2)"
   ]
  },
  {
   "cell_type": "code",
   "execution_count": 1,
   "metadata": {},
   "outputs": [],
   "source": [
    "# завантажуємо потрібні бібліотеки\n",
    "\n",
    "import pandas as pd\n",
    "%matplotlib inline\n",
    "import seaborn as sns\n",
    "import matplotlib.pyplot as plt"
   ]
  },
  {
   "cell_type": "markdown",
   "metadata": {},
   "source": [
    "<a class=\"anchor\" id=\"2.1\"></a>"
   ]
  },
  {
   "cell_type": "markdown",
   "metadata": {},
   "source": [
    "## 2.1. Завантаження і знайомство з даними\n",
    "\n",
    "[Повернутися до змісту](#2)"
   ]
  },
  {
   "cell_type": "markdown",
   "metadata": {},
   "source": [
    "Для лабораторної роботи Вам знадобляться попередньо оформлені дані з навчального конкурсу на Kaggle [«Прогноз популярности статьи на Хабре»](https://www.kaggle.com/c/howpop-habrahabr-favs)."
   ]
  },
  {
   "cell_type": "code",
   "execution_count": 2,
   "metadata": {},
   "outputs": [],
   "source": [
    "df = pd.read_csv('howpop_train.csv')"
   ]
  },
  {
   "cell_type": "code",
   "execution_count": 3,
   "metadata": {},
   "outputs": [
    {
     "data": {
      "text/plain": [
       "(134137, 17)"
      ]
     },
     "execution_count": 3,
     "metadata": {},
     "output_type": "execute_result"
    }
   ],
   "source": [
    "df.shape"
   ]
  },
  {
   "cell_type": "code",
   "execution_count": 4,
   "metadata": {},
   "outputs": [
    {
     "data": {
      "text/html": [
       "<div>\n",
       "<style scoped>\n",
       "    .dataframe tbody tr th:only-of-type {\n",
       "        vertical-align: middle;\n",
       "    }\n",
       "\n",
       "    .dataframe tbody tr th {\n",
       "        vertical-align: top;\n",
       "    }\n",
       "\n",
       "    .dataframe thead th {\n",
       "        text-align: right;\n",
       "    }\n",
       "</style>\n",
       "<table border=\"1\" class=\"dataframe\">\n",
       "  <thead>\n",
       "    <tr style=\"text-align: right;\">\n",
       "      <th></th>\n",
       "      <th>0</th>\n",
       "      <th>1</th>\n",
       "      <th>2</th>\n",
       "    </tr>\n",
       "  </thead>\n",
       "  <tbody>\n",
       "    <tr>\n",
       "      <th>url</th>\n",
       "      <td>https://habrahabr.ru/post/18284/</td>\n",
       "      <td>https://habrahabr.ru/post/18285/</td>\n",
       "      <td>https://habrahabr.ru/post/18286/</td>\n",
       "    </tr>\n",
       "    <tr>\n",
       "      <th>domain</th>\n",
       "      <td>habrahabr.ru</td>\n",
       "      <td>habrahabr.ru</td>\n",
       "      <td>habrahabr.ru</td>\n",
       "    </tr>\n",
       "    <tr>\n",
       "      <th>post_id</th>\n",
       "      <td>18284</td>\n",
       "      <td>18285</td>\n",
       "      <td>18286</td>\n",
       "    </tr>\n",
       "    <tr>\n",
       "      <th>published</th>\n",
       "      <td>2008-01-01 18:19:00</td>\n",
       "      <td>2008-01-01 18:30:00</td>\n",
       "      <td>2008-01-01 18:34:00</td>\n",
       "    </tr>\n",
       "    <tr>\n",
       "      <th>author</th>\n",
       "      <td>@Tapac</td>\n",
       "      <td>@DezmASter</td>\n",
       "      <td>@DezmASter</td>\n",
       "    </tr>\n",
       "    <tr>\n",
       "      <th>flow</th>\n",
       "      <td>develop</td>\n",
       "      <td>design</td>\n",
       "      <td>design</td>\n",
       "    </tr>\n",
       "    <tr>\n",
       "      <th>polling</th>\n",
       "      <td>False</td>\n",
       "      <td>False</td>\n",
       "      <td>False</td>\n",
       "    </tr>\n",
       "    <tr>\n",
       "      <th>content_len</th>\n",
       "      <td>4305</td>\n",
       "      <td>7344</td>\n",
       "      <td>8431</td>\n",
       "    </tr>\n",
       "    <tr>\n",
       "      <th>title</th>\n",
       "      <td>Новогодний подарок блоггерам — WordPress 2.3.2</td>\n",
       "      <td>Сумасшедшие яйца, или сервис для отслеживания ...</td>\n",
       "      <td>Сумасшедшие яйца, или сервис для отслеживания ...</td>\n",
       "    </tr>\n",
       "    <tr>\n",
       "      <th>comments</th>\n",
       "      <td>0</td>\n",
       "      <td>1</td>\n",
       "      <td>47</td>\n",
       "    </tr>\n",
       "    <tr>\n",
       "      <th>favs</th>\n",
       "      <td>0</td>\n",
       "      <td>1</td>\n",
       "      <td>72</td>\n",
       "    </tr>\n",
       "    <tr>\n",
       "      <th>views</th>\n",
       "      <td>236</td>\n",
       "      <td>353</td>\n",
       "      <td>1200</td>\n",
       "    </tr>\n",
       "    <tr>\n",
       "      <th>votes_plus</th>\n",
       "      <td>0.0</td>\n",
       "      <td>1.0</td>\n",
       "      <td>45.0</td>\n",
       "    </tr>\n",
       "    <tr>\n",
       "      <th>votes_minus</th>\n",
       "      <td>0.0</td>\n",
       "      <td>0.0</td>\n",
       "      <td>5.0</td>\n",
       "    </tr>\n",
       "    <tr>\n",
       "      <th>views_lognorm</th>\n",
       "      <td>-0.792687</td>\n",
       "      <td>-0.485214</td>\n",
       "      <td>0.44609</td>\n",
       "    </tr>\n",
       "    <tr>\n",
       "      <th>favs_lognorm</th>\n",
       "      <td>-1.344075</td>\n",
       "      <td>-0.831946</td>\n",
       "      <td>1.794023</td>\n",
       "    </tr>\n",
       "    <tr>\n",
       "      <th>comments_lognorm</th>\n",
       "      <td>-2.436871</td>\n",
       "      <td>-1.873193</td>\n",
       "      <td>0.574656</td>\n",
       "    </tr>\n",
       "  </tbody>\n",
       "</table>\n",
       "</div>"
      ],
      "text/plain": [
       "                                                               0  \\\n",
       "url                             https://habrahabr.ru/post/18284/   \n",
       "domain                                              habrahabr.ru   \n",
       "post_id                                                    18284   \n",
       "published                                    2008-01-01 18:19:00   \n",
       "author                                                    @Tapac   \n",
       "flow                                                     develop   \n",
       "polling                                                    False   \n",
       "content_len                                                 4305   \n",
       "title             Новогодний подарок блоггерам — WordPress 2.3.2   \n",
       "comments                                                       0   \n",
       "favs                                                           0   \n",
       "views                                                        236   \n",
       "votes_plus                                                   0.0   \n",
       "votes_minus                                                  0.0   \n",
       "views_lognorm                                          -0.792687   \n",
       "favs_lognorm                                           -1.344075   \n",
       "comments_lognorm                                       -2.436871   \n",
       "\n",
       "                                                                  1  \\\n",
       "url                                https://habrahabr.ru/post/18285/   \n",
       "domain                                                 habrahabr.ru   \n",
       "post_id                                                       18285   \n",
       "published                                       2008-01-01 18:30:00   \n",
       "author                                                   @DezmASter   \n",
       "flow                                                         design   \n",
       "polling                                                       False   \n",
       "content_len                                                    7344   \n",
       "title             Сумасшедшие яйца, или сервис для отслеживания ...   \n",
       "comments                                                          1   \n",
       "favs                                                              1   \n",
       "views                                                           353   \n",
       "votes_plus                                                      1.0   \n",
       "votes_minus                                                     0.0   \n",
       "views_lognorm                                             -0.485214   \n",
       "favs_lognorm                                              -0.831946   \n",
       "comments_lognorm                                          -1.873193   \n",
       "\n",
       "                                                                  2  \n",
       "url                                https://habrahabr.ru/post/18286/  \n",
       "domain                                                 habrahabr.ru  \n",
       "post_id                                                       18286  \n",
       "published                                       2008-01-01 18:34:00  \n",
       "author                                                   @DezmASter  \n",
       "flow                                                         design  \n",
       "polling                                                       False  \n",
       "content_len                                                    8431  \n",
       "title             Сумасшедшие яйца, или сервис для отслеживания ...  \n",
       "comments                                                         47  \n",
       "favs                                                             72  \n",
       "views                                                          1200  \n",
       "votes_plus                                                     45.0  \n",
       "votes_minus                                                     5.0  \n",
       "views_lognorm                                               0.44609  \n",
       "favs_lognorm                                               1.794023  \n",
       "comments_lognorm                                           0.574656  "
      ]
     },
     "execution_count": 4,
     "metadata": {},
     "output_type": "execute_result"
    }
   ],
   "source": [
    "df.head(3).T"
   ]
  },
  {
   "cell_type": "markdown",
   "metadata": {},
   "source": [
    "Відразу відкинемо змінні, назви яких закінчуються на `_lognorm` (потрібні для змагання на Kaggle). Виберемо їх за допомогою `filter()` і видалимо за допомогою `drop`."
   ]
  },
  {
   "cell_type": "code",
   "execution_count": 5,
   "metadata": {},
   "outputs": [],
   "source": [
    "df.drop(filter(lambda c: c.endswith('_lognorm'), df.columns), \n",
    "        axis = 1,       # axis = 1: стовпці \n",
    "        inplace = True) # позбавляє необхідності зберігати набір даних"
   ]
  },
  {
   "cell_type": "code",
   "execution_count": 6,
   "metadata": {},
   "outputs": [
    {
     "data": {
      "text/html": [
       "<div>\n",
       "<style scoped>\n",
       "    .dataframe tbody tr th:only-of-type {\n",
       "        vertical-align: middle;\n",
       "    }\n",
       "\n",
       "    .dataframe tbody tr th {\n",
       "        vertical-align: top;\n",
       "    }\n",
       "\n",
       "    .dataframe thead th {\n",
       "        text-align: right;\n",
       "    }\n",
       "</style>\n",
       "<table border=\"1\" class=\"dataframe\">\n",
       "  <thead>\n",
       "    <tr style=\"text-align: right;\">\n",
       "      <th></th>\n",
       "      <th>count</th>\n",
       "      <th>mean</th>\n",
       "      <th>std</th>\n",
       "      <th>min</th>\n",
       "      <th>25%</th>\n",
       "      <th>50%</th>\n",
       "      <th>75%</th>\n",
       "      <th>max</th>\n",
       "    </tr>\n",
       "  </thead>\n",
       "  <tbody>\n",
       "    <tr>\n",
       "      <th>post_id</th>\n",
       "      <td>134137.0</td>\n",
       "      <td>181307.054265</td>\n",
       "      <td>81766.350702</td>\n",
       "      <td>18284.0</td>\n",
       "      <td>115565.0</td>\n",
       "      <td>182666.0</td>\n",
       "      <td>257401.0</td>\n",
       "      <td>314088.0</td>\n",
       "    </tr>\n",
       "    <tr>\n",
       "      <th>content_len</th>\n",
       "      <td>134137.0</td>\n",
       "      <td>7516.929699</td>\n",
       "      <td>8724.771640</td>\n",
       "      <td>1.0</td>\n",
       "      <td>2179.0</td>\n",
       "      <td>4949.0</td>\n",
       "      <td>9858.0</td>\n",
       "      <td>352471.0</td>\n",
       "    </tr>\n",
       "    <tr>\n",
       "      <th>comments</th>\n",
       "      <td>134137.0</td>\n",
       "      <td>39.625994</td>\n",
       "      <td>62.398958</td>\n",
       "      <td>0.0</td>\n",
       "      <td>7.0</td>\n",
       "      <td>19.0</td>\n",
       "      <td>48.0</td>\n",
       "      <td>2266.0</td>\n",
       "    </tr>\n",
       "    <tr>\n",
       "      <th>favs</th>\n",
       "      <td>134137.0</td>\n",
       "      <td>71.999866</td>\n",
       "      <td>145.854135</td>\n",
       "      <td>0.0</td>\n",
       "      <td>8.0</td>\n",
       "      <td>27.0</td>\n",
       "      <td>78.0</td>\n",
       "      <td>8718.0</td>\n",
       "    </tr>\n",
       "    <tr>\n",
       "      <th>views</th>\n",
       "      <td>134137.0</td>\n",
       "      <td>16631.013084</td>\n",
       "      <td>31479.819691</td>\n",
       "      <td>3.0</td>\n",
       "      <td>2100.0</td>\n",
       "      <td>7600.0</td>\n",
       "      <td>18700.0</td>\n",
       "      <td>1730000.0</td>\n",
       "    </tr>\n",
       "    <tr>\n",
       "      <th>votes_plus</th>\n",
       "      <td>133566.0</td>\n",
       "      <td>35.536888</td>\n",
       "      <td>42.461073</td>\n",
       "      <td>0.0</td>\n",
       "      <td>11.0</td>\n",
       "      <td>22.0</td>\n",
       "      <td>45.0</td>\n",
       "      <td>1466.0</td>\n",
       "    </tr>\n",
       "    <tr>\n",
       "      <th>votes_minus</th>\n",
       "      <td>133566.0</td>\n",
       "      <td>8.050035</td>\n",
       "      <td>11.398282</td>\n",
       "      <td>0.0</td>\n",
       "      <td>2.0</td>\n",
       "      <td>5.0</td>\n",
       "      <td>10.0</td>\n",
       "      <td>445.0</td>\n",
       "    </tr>\n",
       "  </tbody>\n",
       "</table>\n",
       "</div>"
      ],
      "text/plain": [
       "                count           mean           std      min       25%  \\\n",
       "post_id      134137.0  181307.054265  81766.350702  18284.0  115565.0   \n",
       "content_len  134137.0    7516.929699   8724.771640      1.0    2179.0   \n",
       "comments     134137.0      39.625994     62.398958      0.0       7.0   \n",
       "favs         134137.0      71.999866    145.854135      0.0       8.0   \n",
       "views        134137.0   16631.013084  31479.819691      3.0    2100.0   \n",
       "votes_plus   133566.0      35.536888     42.461073      0.0      11.0   \n",
       "votes_minus  133566.0       8.050035     11.398282      0.0       2.0   \n",
       "\n",
       "                  50%       75%        max  \n",
       "post_id      182666.0  257401.0   314088.0  \n",
       "content_len    4949.0    9858.0   352471.0  \n",
       "comments         19.0      48.0     2266.0  \n",
       "favs             27.0      78.0     8718.0  \n",
       "views          7600.0   18700.0  1730000.0  \n",
       "votes_plus       22.0      45.0     1466.0  \n",
       "votes_minus       5.0      10.0      445.0  "
      ]
     },
     "execution_count": 6,
     "metadata": {},
     "output_type": "execute_result"
    }
   ],
   "source": [
    "df.describe().T"
   ]
  },
  {
   "cell_type": "code",
   "execution_count": 7,
   "metadata": {},
   "outputs": [
    {
     "data": {
      "text/html": [
       "<div>\n",
       "<style scoped>\n",
       "    .dataframe tbody tr th:only-of-type {\n",
       "        vertical-align: middle;\n",
       "    }\n",
       "\n",
       "    .dataframe tbody tr th {\n",
       "        vertical-align: top;\n",
       "    }\n",
       "\n",
       "    .dataframe thead th {\n",
       "        text-align: right;\n",
       "    }\n",
       "</style>\n",
       "<table border=\"1\" class=\"dataframe\">\n",
       "  <thead>\n",
       "    <tr style=\"text-align: right;\">\n",
       "      <th></th>\n",
       "      <th>count</th>\n",
       "      <th>unique</th>\n",
       "      <th>top</th>\n",
       "      <th>freq</th>\n",
       "    </tr>\n",
       "  </thead>\n",
       "  <tbody>\n",
       "    <tr>\n",
       "      <th>url</th>\n",
       "      <td>134137</td>\n",
       "      <td>134137</td>\n",
       "      <td>https://geektimes.ru/post/194432/</td>\n",
       "      <td>1</td>\n",
       "    </tr>\n",
       "    <tr>\n",
       "      <th>domain</th>\n",
       "      <td>134137</td>\n",
       "      <td>2</td>\n",
       "      <td>habrahabr.ru</td>\n",
       "      <td>97048</td>\n",
       "    </tr>\n",
       "    <tr>\n",
       "      <th>published</th>\n",
       "      <td>134137</td>\n",
       "      <td>130291</td>\n",
       "      <td>2011-06-14 15:52:00</td>\n",
       "      <td>39</td>\n",
       "    </tr>\n",
       "    <tr>\n",
       "      <th>author</th>\n",
       "      <td>97657</td>\n",
       "      <td>22077</td>\n",
       "      <td>@alizar</td>\n",
       "      <td>5292</td>\n",
       "    </tr>\n",
       "    <tr>\n",
       "      <th>flow</th>\n",
       "      <td>97048</td>\n",
       "      <td>6</td>\n",
       "      <td>develop</td>\n",
       "      <td>53318</td>\n",
       "    </tr>\n",
       "    <tr>\n",
       "      <th>polling</th>\n",
       "      <td>134137</td>\n",
       "      <td>2</td>\n",
       "      <td>False</td>\n",
       "      <td>129412</td>\n",
       "    </tr>\n",
       "    <tr>\n",
       "      <th>title</th>\n",
       "      <td>134137</td>\n",
       "      <td>133628</td>\n",
       "      <td>Интересные события, произошедшие в выходные</td>\n",
       "      <td>56</td>\n",
       "    </tr>\n",
       "  </tbody>\n",
       "</table>\n",
       "</div>"
      ],
      "text/plain": [
       "            count  unique                                          top    freq\n",
       "url        134137  134137            https://geektimes.ru/post/194432/       1\n",
       "domain     134137       2                                 habrahabr.ru   97048\n",
       "published  134137  130291                          2011-06-14 15:52:00      39\n",
       "author      97657   22077                                      @alizar    5292\n",
       "flow        97048       6                                      develop   53318\n",
       "polling    134137       2                                        False  129412\n",
       "title      134137  133628  Интересные события, произошедшие в выходные      56"
      ]
     },
     "execution_count": 7,
     "metadata": {},
     "output_type": "execute_result"
    }
   ],
   "source": [
    "# бінарні і категоріальні змінні\n",
    "df.describe(include = ['object', 'bool']).T"
   ]
  },
  {
   "cell_type": "code",
   "execution_count": 8,
   "metadata": {},
   "outputs": [],
   "source": [
    "# налаштування зовнішнього вигляду графіків у seaborn\n",
    "\n",
    "sns.set_style(\"dark\")\n",
    "sns.set_palette(\"RdBu\")\n",
    "sns.set_context(\"notebook\", font_scale = 1.5, \n",
    "                rc = { \"figure.figsize\" : (15, 5), \"axes.titlesize\" : 18 })"
   ]
  },
  {
   "cell_type": "markdown",
   "metadata": {},
   "source": [
    "Стовпець **`published`** (час публікації) містить рядки. Для робити з цими даними як з датою/часом публікації, приведемо їх до типу `datetime`."
   ]
  },
  {
   "cell_type": "code",
   "execution_count": 9,
   "metadata": {},
   "outputs": [
    {
     "name": "stdout",
     "output_type": "stream",
     "text": [
      "object\n",
      "datetime64[ns]\n"
     ]
    }
   ],
   "source": [
    "print(df.published.dtype)\n",
    "df['published'] = pd.to_datetime(df.published, yearfirst = True)\n",
    "print(df.published.dtype)"
   ]
  },
  {
   "cell_type": "markdown",
   "metadata": {},
   "source": [
    "Створимо декілька стовпців на основі даних щодо часу публікації."
   ]
  },
  {
   "cell_type": "code",
   "execution_count": 10,
   "metadata": {},
   "outputs": [],
   "source": [
    "df['year'] = df.published.apply(lambda ts: ts.year)\n",
    "df['month'] = df.published.apply(lambda ts: ts.month)\n",
    "df['day'] = df.published.apply(lambda ts: ts.day)\n",
    "df['dayofweek'] = df.published.apply(lambda ts: ts.isoweekday())\n",
    "df['hour'] = df.published.apply(lambda ts: ts.hour)"
   ]
  },
  {
   "cell_type": "markdown",
   "metadata": {},
   "source": [
    "-----\n",
    "<a class=\"anchor\" id=\"2.2\"></a>"
   ]
  },
  {
   "cell_type": "markdown",
   "metadata": {},
   "source": [
    "## 2.2. Завдання\n",
    "\n",
    "[Повернутися до змісту](#2)"
   ]
  },
  {
   "cell_type": "markdown",
   "metadata": {},
   "source": [
    "Дайте відповіді на запитання з використанням інструментів візуалізації."
   ]
  },
  {
   "cell_type": "markdown",
   "metadata": {},
   "source": [
    "<span style=\"color:red; font-size:2em;\">Завдання 1</span>\n",
    "\n",
    "Для всіх варіантів:\n",
    "\n",
    "**В якому місяці (і якого року) було найбільше публікацій?**\n",
    "\n",
    "* Березень 2016\n",
    "* Березень 2015\n",
    "* Квітень 2015\n",
    "* Квітень 2016"
   ]
  },
  {
   "cell_type": "code",
   "execution_count": 11,
   "metadata": {},
   "outputs": [],
   "source": [
    "# Ваш код тут\n"
   ]
  },
  {
   "cell_type": "markdown",
   "metadata": {},
   "source": [
    "<span style=\"color:red; font-size:2em;\">Завдання 2</span>\n",
    "\n",
    "**Проаналізуйте публікації в місяці з попереднього питання.**\n",
    "\n",
    "Для варіантів 1-5:\n",
    "\n",
    "**Чи виділяється один або кілька днів від загальної картини публікацій? Якщо так, то в якому дні тижня публікується найбільше/найменше статей?**\n",
    "\n",
    "Для варіантів 6-10:\n",
    "\n",
    "**Чи виділяється пора дня від загальної картини публікацій? Якщо так, то в яку пору дня (вказати години) публікується найбільше/найменше статей?**\n",
    "\n",
    "Для варіантів 11-15:\n",
    "\n",
    "**Зобразіть порівнняня публікацій на Хабрі та на Гіктаймсі. Чи правда, що на Хабрі щодня більше статей, ніж на Гіктаймсі?**\n",
    "\n",
    "Для варіантів 16-20:\n",
    "\n",
    "**Чи правда, що на Хабрі та на Гіктаймсі щосуботи публікують приблизно однакову кількість статей? Подайте відповідь на графіку.**"
   ]
  },
  {
   "cell_type": "code",
   "execution_count": 12,
   "metadata": {},
   "outputs": [],
   "source": [
    "# Ваш код тут\n"
   ]
  },
  {
   "cell_type": "markdown",
   "metadata": {},
   "source": [
    "<span style=\"color:red; font-size:2em;\">Завдання 3</span>\n",
    "\n",
    "**Коли найкраще публікувати статтю? Дайте відповіді на запитання з використанням інструментів візуалізації:**\n",
    "\n",
    "Для варіантів 1-5:\n",
    "\n",
    "**Чи правда, що найбільше переглядів набирають статті, які опубліковані о 14:00?**\n",
    "\n",
    "Для варіантів 6-10:\n",
    "\n",
    "**Чи правда, що статті, які опубліковані о 10:00, набирають найбільше коментарів?**\n",
    "\n",
    "Для варіантів 11-15:\n",
    "\n",
    "**Чи правда, що найменше переглядів набирають статті, які опубліковані о 6:00?**\n",
    "\n",
    "Для варіантів 16-20:\n",
    "\n",
    "**Чи правда, що на Хабрі денні (12:00 - 18:59) статті коментують частіше, ніж вечірні (19:00 - 23:59)?**"
   ]
  },
  {
   "cell_type": "code",
   "execution_count": 13,
   "metadata": {},
   "outputs": [],
   "source": [
    "# Ваш код тут\n"
   ]
  },
  {
   "cell_type": "markdown",
   "metadata": {},
   "source": [
    "<span style=\"color:red; font-size:2em;\">Завдання 4</span>\n",
    "\n",
    "**Виконайте аналітику кращих авторів з допомопогою інструментів візуалізації:**\n",
    "\n",
    "Для варіантів 1-5:\n",
    "\n",
    "**Виведіть топ-10 авторів з найбільшою кількістю статей (сума статей) за днями тижня.**\n",
    "\n",
    "Для варіантів 6-10:\n",
    "\n",
    "**Виведіть топ-10 авторів з найбільшою кількістю переглядів (сума переглядів) за днями тижня.**\n",
    "\n",
    "Для варіантів 11-15:\n",
    "\n",
    "**Виведіть топ-10 авторів з найбільшою кількістю коментарів (сума коментарів), які збирають їхні статті, за днями тижня.**\n",
    "\n",
    "Для варіантів 16-20:\n",
    "\n",
    "**Виведіть топ-10 авторів, які отримали найбільше плюсів (сума плюсів) за свої публікації, за днями тижня.**"
   ]
  },
  {
   "cell_type": "code",
   "execution_count": 14,
   "metadata": {},
   "outputs": [],
   "source": [
    "# Ваш код тут\n"
   ]
  },
  {
   "cell_type": "markdown",
   "metadata": {},
   "source": [
    "<span style=\"color:red; font-size:2em;\">Завдання 5</span>\n",
    "\n",
    "**Проаналізуйте день тижня та пору дня, за яких автори публікують свої статті найчастіше:**\n",
    "\n",
    "Для варіантів 1-5:\n",
    "\n",
    "**Чи правда, що автори зазвичай пишуть щосуботи зранку (12:00 - 18:59)?**\n",
    "\n",
    "Для варіантів 6-10:\n",
    "\n",
    "**Чи правда, що автори зазвичай пишуть щопонеділка ввечері (19:00 - 23:59)?**\n",
    "\n",
    "Для варіантів 11-15:\n",
    "\n",
    "**Чи правда, що автори зазвичай пишуть щонеділі вночі (00:00 - 04:59)?**\n",
    "\n",
    "Для варіантів 16-20:\n",
    "\n",
    "**Чи правда, що автори зазвичай пишуть щосереди вдень (05:00 - 11:59)?**"
   ]
  },
  {
   "cell_type": "code",
   "execution_count": 15,
   "metadata": {
    "tags": []
   },
   "outputs": [],
   "source": [
    "# Ваш код тут\n"
   ]
  }
 ],
 "metadata": {
  "kernelspec": {
   "display_name": "Python 3",
   "language": "python",
   "name": "python3"
  },
  "language_info": {
   "codemirror_mode": {
    "name": "ipython",
    "version": 3
   },
   "file_extension": ".py",
   "mimetype": "text/x-python",
   "name": "python",
   "nbconvert_exporter": "python",
   "pygments_lexer": "ipython3",
   "version": "3.8.8"
  }
 },
 "nbformat": 4,
 "nbformat_minor": 4
}
