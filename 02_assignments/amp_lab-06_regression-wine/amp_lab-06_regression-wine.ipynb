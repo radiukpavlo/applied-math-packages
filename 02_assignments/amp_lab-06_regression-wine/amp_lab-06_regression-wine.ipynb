{
 "cells": [
  {
   "cell_type": "markdown",
   "metadata": {},
   "source": [
    "<h1><center>Лабораторна робота 6.</center></h1>\n",
    "<h2><center>Лінійна регресія, Lasso і RF-регресія для задачі визначення якості вина</center></h2>"
   ]
  },
  {
   "cell_type": "markdown",
   "metadata": {},
   "source": [
    "**Виконав:** Прізвище І.П.\n",
    "\n",
    "**Варіант:** №__"
   ]
  },
  {
   "cell_type": "markdown",
   "metadata": {},
   "source": [
    "<a class=\"anchor\" id=\"lab-6\"></a>"
   ]
  },
  {
   "cell_type": "markdown",
   "metadata": {},
   "source": [
    "## Зміст\n",
    "\n",
    "- [6.1. Завантаження навчальних даних](#lab-6.1)\n",
    "- [6.2. Лінійна регресія](#lab-6.2)  \n",
    "- [6.3. LASSO-регресія](#lab-6.3)\n",
    "- [6.4. Випадковий ліс](#lab-6.4)\n",
    "- [6.5. Порівняння моделей](#lab-6.5)"
   ]
  },
  {
   "cell_type": "code",
   "execution_count": 7,
   "metadata": {},
   "outputs": [],
   "source": [
    "# відключимо попередження Anaconda\n",
    "import warnings\n",
    "warnings.filterwarnings('ignore')\n",
    "import numpy as np\n",
    "import pandas as pd\n",
    "from sklearn.metrics import mean_squared_error\n",
    "from sklearn.preprocessing import StandardScaler\n",
    "from sklearn.model_selection import GridSearchCV\n",
    "from sklearn.model_selection import cross_val_score, train_test_split\n",
    "from sklearn.linear_model import LinearRegression, LassoCV, Lasso\n",
    "from sklearn.ensemble import RandomForestRegressor"
   ]
  },
  {
   "cell_type": "markdown",
   "metadata": {},
   "source": [
    "<a class=\"anchor\" id=\"lab-6.1\"></a>"
   ]
  },
  {
   "cell_type": "markdown",
   "metadata": {},
   "source": [
    "## <span style=\"color:blue; font-size:1.2em;\">6.1. Завантаження навчальних даних</span>\n",
    "\n",
    "[Повернутися до змісту](#lab-6)"
   ]
  },
  {
   "cell_type": "markdown",
   "metadata": {},
   "source": [
    "В цій лабораторній робота будемо працювати з набором даних за якістю білого вина ([репозиторій UCI](https://archive.ics.uci.edu/ml/datasets/wine+quality)).\n",
    "\n",
    "Спершу завантажуємо дані:"
   ]
  },
  {
   "cell_type": "code",
   "execution_count": 8,
   "metadata": {},
   "outputs": [],
   "source": [
    "winequality_white_url = 'https://raw.githubusercontent.com/radiukpavlo/applied-math-packages/main/02_assignments/amp_lab-06_regression-wine/winequality-white.csv'\n",
    "data = pd.read_csv(winequality_white_url, sep=';')"
   ]
  },
  {
   "cell_type": "code",
   "execution_count": 9,
   "metadata": {},
   "outputs": [
    {
     "data": {
      "text/html": [
       "<div>\n",
       "<style scoped>\n",
       "    .dataframe tbody tr th:only-of-type {\n",
       "        vertical-align: middle;\n",
       "    }\n",
       "\n",
       "    .dataframe tbody tr th {\n",
       "        vertical-align: top;\n",
       "    }\n",
       "\n",
       "    .dataframe thead th {\n",
       "        text-align: right;\n",
       "    }\n",
       "</style>\n",
       "<table border=\"1\" class=\"dataframe\">\n",
       "  <thead>\n",
       "    <tr style=\"text-align: right;\">\n",
       "      <th></th>\n",
       "      <th>fixed acidity</th>\n",
       "      <th>volatile acidity</th>\n",
       "      <th>citric acid</th>\n",
       "      <th>residual sugar</th>\n",
       "      <th>chlorides</th>\n",
       "      <th>free sulfur dioxide</th>\n",
       "      <th>total sulfur dioxide</th>\n",
       "      <th>density</th>\n",
       "      <th>pH</th>\n",
       "      <th>sulphates</th>\n",
       "      <th>alcohol</th>\n",
       "      <th>quality</th>\n",
       "    </tr>\n",
       "  </thead>\n",
       "  <tbody>\n",
       "    <tr>\n",
       "      <th>0</th>\n",
       "      <td>7.0</td>\n",
       "      <td>0.27</td>\n",
       "      <td>0.36</td>\n",
       "      <td>20.7</td>\n",
       "      <td>0.045</td>\n",
       "      <td>45.0</td>\n",
       "      <td>170.0</td>\n",
       "      <td>1.0010</td>\n",
       "      <td>3.00</td>\n",
       "      <td>0.45</td>\n",
       "      <td>8.8</td>\n",
       "      <td>6</td>\n",
       "    </tr>\n",
       "    <tr>\n",
       "      <th>1</th>\n",
       "      <td>6.3</td>\n",
       "      <td>0.30</td>\n",
       "      <td>0.34</td>\n",
       "      <td>1.6</td>\n",
       "      <td>0.049</td>\n",
       "      <td>14.0</td>\n",
       "      <td>132.0</td>\n",
       "      <td>0.9940</td>\n",
       "      <td>3.30</td>\n",
       "      <td>0.49</td>\n",
       "      <td>9.5</td>\n",
       "      <td>6</td>\n",
       "    </tr>\n",
       "    <tr>\n",
       "      <th>2</th>\n",
       "      <td>8.1</td>\n",
       "      <td>0.28</td>\n",
       "      <td>0.40</td>\n",
       "      <td>6.9</td>\n",
       "      <td>0.050</td>\n",
       "      <td>30.0</td>\n",
       "      <td>97.0</td>\n",
       "      <td>0.9951</td>\n",
       "      <td>3.26</td>\n",
       "      <td>0.44</td>\n",
       "      <td>10.1</td>\n",
       "      <td>6</td>\n",
       "    </tr>\n",
       "    <tr>\n",
       "      <th>3</th>\n",
       "      <td>7.2</td>\n",
       "      <td>0.23</td>\n",
       "      <td>0.32</td>\n",
       "      <td>8.5</td>\n",
       "      <td>0.058</td>\n",
       "      <td>47.0</td>\n",
       "      <td>186.0</td>\n",
       "      <td>0.9956</td>\n",
       "      <td>3.19</td>\n",
       "      <td>0.40</td>\n",
       "      <td>9.9</td>\n",
       "      <td>6</td>\n",
       "    </tr>\n",
       "    <tr>\n",
       "      <th>4</th>\n",
       "      <td>7.2</td>\n",
       "      <td>0.23</td>\n",
       "      <td>0.32</td>\n",
       "      <td>8.5</td>\n",
       "      <td>0.058</td>\n",
       "      <td>47.0</td>\n",
       "      <td>186.0</td>\n",
       "      <td>0.9956</td>\n",
       "      <td>3.19</td>\n",
       "      <td>0.40</td>\n",
       "      <td>9.9</td>\n",
       "      <td>6</td>\n",
       "    </tr>\n",
       "  </tbody>\n",
       "</table>\n",
       "</div>"
      ],
      "text/plain": [
       "   fixed acidity  volatile acidity  citric acid  residual sugar  chlorides  \\\n",
       "0            7.0              0.27         0.36            20.7      0.045   \n",
       "1            6.3              0.30         0.34             1.6      0.049   \n",
       "2            8.1              0.28         0.40             6.9      0.050   \n",
       "3            7.2              0.23         0.32             8.5      0.058   \n",
       "4            7.2              0.23         0.32             8.5      0.058   \n",
       "\n",
       "   free sulfur dioxide  total sulfur dioxide  density    pH  sulphates  \\\n",
       "0                 45.0                 170.0   1.0010  3.00       0.45   \n",
       "1                 14.0                 132.0   0.9940  3.30       0.49   \n",
       "2                 30.0                  97.0   0.9951  3.26       0.44   \n",
       "3                 47.0                 186.0   0.9956  3.19       0.40   \n",
       "4                 47.0                 186.0   0.9956  3.19       0.40   \n",
       "\n",
       "   alcohol  quality  \n",
       "0      8.8        6  \n",
       "1      9.5        6  \n",
       "2     10.1        6  \n",
       "3      9.9        6  \n",
       "4      9.9        6  "
      ]
     },
     "execution_count": 9,
     "metadata": {},
     "output_type": "execute_result"
    }
   ],
   "source": [
    "data.head()"
   ]
  },
  {
   "cell_type": "code",
   "execution_count": 10,
   "metadata": {},
   "outputs": [
    {
     "name": "stdout",
     "output_type": "stream",
     "text": [
      "<class 'pandas.core.frame.DataFrame'>\n",
      "RangeIndex: 4898 entries, 0 to 4897\n",
      "Data columns (total 12 columns):\n",
      " #   Column                Non-Null Count  Dtype  \n",
      "---  ------                --------------  -----  \n",
      " 0   fixed acidity         4898 non-null   float64\n",
      " 1   volatile acidity      4898 non-null   float64\n",
      " 2   citric acid           4898 non-null   float64\n",
      " 3   residual sugar        4898 non-null   float64\n",
      " 4   chlorides             4898 non-null   float64\n",
      " 5   free sulfur dioxide   4898 non-null   float64\n",
      " 6   total sulfur dioxide  4898 non-null   float64\n",
      " 7   density               4898 non-null   float64\n",
      " 8   pH                    4898 non-null   float64\n",
      " 9   sulphates             4898 non-null   float64\n",
      " 10  alcohol               4898 non-null   float64\n",
      " 11  quality               4898 non-null   int64  \n",
      "dtypes: float64(11), int64(1)\n",
      "memory usage: 459.3 KB\n"
     ]
    }
   ],
   "source": [
    "data.info()"
   ]
  },
  {
   "cell_type": "markdown",
   "metadata": {},
   "source": [
    "Виконаємо відокремлення цільової ознаки. Для цього розділимо навчальну вибірку за відношенням 7:3. Тут 30% даних - тестова вибірка. Задамо random_state = 17 і виконаємо стандартизацію даних за допомогою StandardScaler()."
   ]
  },
  {
   "cell_type": "code",
   "execution_count": 11,
   "metadata": {},
   "outputs": [],
   "source": [
    "y = data['quality']\n",
    "X = data.drop('quality', axis=1)\n",
    "\n",
    "X_train, X_test, y_train, y_test = train_test_split(X, y, test_size=0.3, random_state=17)\n",
    "scaler = StandardScaler()\n",
    "X_train_scaled = scaler.fit_transform(X_train)\n",
    "X_test_scaled = scaler.transform(X_test)"
   ]
  },
  {
   "cell_type": "markdown",
   "metadata": {},
   "source": [
    "<a class=\"anchor\" id=\"lab-6.2\"></a>"
   ]
  },
  {
   "cell_type": "markdown",
   "metadata": {},
   "source": [
    "## <span style=\"color:blue; font-size:1.2em;\">6.2. Лінійна регресія</span>\n",
    "\n",
    "[Повернутися до змісту](#lab-6)"
   ]
  },
  {
   "cell_type": "markdown",
   "metadata": {},
   "source": [
    "Виконайте навчання простої лінійної регресії. Пам'ятейте, що для навчання та тестування моделі ми використовуємо стандартизовані значення незалежних змінних `X_train_scaled` та `X_test_scaled`, і початкові значення цільової ознаки `y_train` та `y_test`."
   ]
  },
  {
   "cell_type": "code",
   "execution_count": null,
   "metadata": {},
   "outputs": [],
   "source": [
    "linreg = # Ваш код тут\n",
    "linreg.fit # Ваш код тут"
   ]
  },
  {
   "cell_type": "markdown",
   "metadata": {},
   "source": [
    "Після навчання моделі перегляньте її коефіцієнти й відсортуйте ознаки за впливом на якість вина. Майте на увазі, що великі за модулем негативні значення коефіцієнтів теж вказують на сильний вплив на цільову ознаку. Для виконання цього завдання створіть новий DataFrame, як в попередній темі."
   ]
  },
  {
   "cell_type": "code",
   "execution_count": null,
   "metadata": {},
   "outputs": [],
   "source": [
    "linreg_coef = pd.DataFrame # Ваш код тут\n",
    "linreg_coef.sort_values # Ваш код тут"
   ]
  },
  {
   "cell_type": "markdown",
   "metadata": {},
   "source": [
    "### <span style=\"color:red; font-size:1.5em;\">Завдання 1</span>\n",
    "\n",
    "\n",
    "**Для варіантів 1-5:**\n",
    "\n",
    "Яка ознака в моделі лінійної регресії має найменший вплив на якість вина?\n",
    "\n",
    "**Для варіантів 6-10:**\n",
    "\n",
    "Обрахуйте середньоквадратичні помилки лінійної регресії за навчальною та тестовою вибірками.\n",
    "\n",
    "**Для варіантів 11-15:**\n",
    "\n",
    "Обрахуйте середньоквадратичні помилки лінійної регресії за навчальною та тестовою вибірками. \n",
    "\n",
    "**Для варіантів 16-20:**\n",
    "\n",
    "Яка ознака в моделі лінійної регресії має найбільший вплив на якість вина?"
   ]
  },
  {
   "cell_type": "markdown",
   "metadata": {},
   "source": [
    "<a class=\"anchor\" id=\"lab-6.3\"></a>"
   ]
  },
  {
   "cell_type": "markdown",
   "metadata": {},
   "source": [
    "## <span style=\"color:blue; font-size:1.2em;\">6.3. Lasso-регресія</span>\n",
    "\n",
    "[Повернутися до змісту](#lab-6)"
   ]
  },
  {
   "cell_type": "markdown",
   "metadata": {},
   "source": [
    "Навчіть Lasso-регресію з невеликим коефіцієнтом $\\alpha = 0.01$ (слабка регуляризація). Прийміть `random_state=17` та `cv=5`."
   ]
  },
  {
   "cell_type": "code",
   "execution_count": null,
   "metadata": {},
   "outputs": [],
   "source": [
    "lasso1 = Lasso # Ваш код тут\n",
    "lasso1.fit # Ваш код тут "
   ]
  },
  {
   "cell_type": "markdown",
   "metadata": {},
   "source": [
    "Обрахуйте вплив всіх незалежних ознак на цільову ознаку LASSO-регресії. Відсортуйте ознаки за впливом на якість вина."
   ]
  },
  {
   "cell_type": "code",
   "execution_count": null,
   "metadata": {},
   "outputs": [],
   "source": [
    "lasso1_coef = pd.DataFrame # Ваш код тут\n",
    "lasso1_coef.sort_values # Ваш код тут"
   ]
  },
  {
   "cell_type": "markdown",
   "metadata": {},
   "source": [
    "Код нижче дасть змогу знайти найкраще значення $\\alpha$ поміж заданих."
   ]
  },
  {
   "cell_type": "code",
   "execution_count": null,
   "metadata": {},
   "outputs": [],
   "source": [
    "alphas = np.logspace(-6, 2, 200)\n",
    "lasso_cv = LassoCV # Ваш код тут\n",
    "lasso_cv.fit # Ваш код тут"
   ]
  },
  {
   "cell_type": "markdown",
   "metadata": {},
   "source": [
    "### <span style=\"color:red; font-size:1.5em;\">Завдання 2</span>\n",
    "\n",
    "\n",
    "**Для варіантів 1-5:**\n",
    "\n",
    "Обрахуйте середньоквадратичні помилки побудованої LASSO-регресії за навчальною та тестовою вибірками. \n",
    "\n",
    "**Для варіантів 6-10:**\n",
    "\n",
    "Яка ознака в моделі LASSO-регресії має найбільший вплив на якість вина? Використайте підхід з DataFrame як в попередньому завданні.\n",
    "\n",
    "**Для варіантів 11-15:**\n",
    "\n",
    "Обрахуйте найкраще значення $\\alpha$ для LASSO-регресії за 5-кратною крос-валідацією. Використайте LassoCV, `random_state = 17` і команду `alpha_`.\n",
    "\n",
    "**Для варіантів 16-20:**\n",
    "\n",
    "Обрахуйте середньоквадратичні помилки побудованої LASSO-регресії за навчальною та тестовою вибірками. "
   ]
  },
  {
   "cell_type": "markdown",
   "metadata": {},
   "source": [
    "<a class=\"anchor\" id=\"lab-6.4\"></a>"
   ]
  },
  {
   "cell_type": "markdown",
   "metadata": {},
   "source": [
    "## <span style=\"color:blue; font-size:1.2em;\">6.4. Випадковий ліс</span>\n",
    "\n",
    "[Повернутися до змісту](#lab-6)"
   ]
  },
  {
   "cell_type": "markdown",
   "metadata": {},
   "source": [
    "Навчіть випадковий ліс з параметрами \"з коробки\", фіксуючи тільки `random_state=17`."
   ]
  },
  {
   "cell_type": "code",
   "execution_count": null,
   "metadata": {},
   "outputs": [],
   "source": [
    "rf = RandomForestRegressor # Ваш код тут\n",
    "rf.fit # Ваш код тут"
   ]
  },
  {
   "cell_type": "markdown",
   "metadata": {},
   "source": [
    "### <span style=\"color:red; font-size:1.5em;\">Завдання 3</span>\n",
    "\n",
    "\n",
    "**Для всіх варіантів:**\n",
    "\n",
    "Обрахуйте середньоквадратичні помилки випадкового лісу за навчальною та тестовою вибірками."
   ]
  },
  {
   "cell_type": "markdown",
   "metadata": {},
   "source": [
    "Середньоквадратична помилка на крос-валідації (cross_val_score з `scoring='neg_mean_squared_error'`) буде такою:"
   ]
  },
  {
   "cell_type": "code",
   "execution_count": null,
   "metadata": {},
   "outputs": [],
   "source": [
    "rf_mse_cv = np.mean(np.abs(cross_val_score(rf, X_train_scaled, y_train, scoring='neg_mean_squared_error')))"
   ]
  },
  {
   "cell_type": "markdown",
   "metadata": {},
   "source": [
    "Далі налаштуйте параметри випадкового лісу за допомогою GridSearchCV."
   ]
  },
  {
   "cell_type": "code",
   "execution_count": null,
   "metadata": {},
   "outputs": [],
   "source": [
    "rf_params = {'max_features': [3, 4, 5],\n",
    "             'min_samples_leaf': [1, 3, 5, 7],\n",
    "             'max_depth': [5, 7, 10]}\n",
    "\n",
    "locally_best_rf = GridSearchCV # Ваш код тут\n",
    "locally_best_rf.fit # Ваш код тут"
   ]
  },
  {
   "cell_type": "code",
   "execution_count": null,
   "metadata": {},
   "outputs": [],
   "source": [
    "locally_best_rf.best_params_, locally_best_rf.best_score_"
   ]
  },
  {
   "cell_type": "markdown",
   "metadata": {},
   "source": [
    "Насамкінець, оцініть важливість всіх ознак налаштованого випадкового лісу."
   ]
  },
  {
   "cell_type": "code",
   "execution_count": null,
   "metadata": {},
   "outputs": [],
   "source": [
    "rf_importance = pd.DataFrame # Ваш код тут\n",
    "rf_importance.sort_values # Ваш код тут"
   ]
  },
  {
   "cell_type": "markdown",
   "metadata": {},
   "source": [
    "### <span style=\"color:red; font-size:1.5em;\">Завдання 4</span>\n",
    "\n",
    "\n",
    "**Для варіантів 1-5:**\n",
    "\n",
    "Обрахуйте середньоквадратичні помилки налаштованого випадкового лісу за навчальною та тестовою вибірками та на крос-валідації (cross_val_score з `scoring='neg_mean_squared_error'`). Скористайтеся знайденими значення параметрів за допомогою GridSearchCV з попереднього кроку.\n",
    "\n",
    "**Для варіантів 6-10:**\n",
    "\n",
    "Яка ознака виявилася найгіршою (з найменшим значенням) для моделі випадкового лісу? \n",
    "\n",
    "**Для варіантів 11-15:**\n",
    "\n",
    "Яка ознака виявилася головною (з найбільшим значенням) для моделі випадкового лісу?\n",
    "\n",
    "**Для варіантів 16-20:**\n",
    "\n",
    "Обрахуйте середньоквадратичні помилки налаштованого випадкового лісу за навчальною та тестовою вибірками та на крос-валідації (cross_val_score з `scoring='neg_mean_squared_error'`). Скористайтеся знайденими значення параметрів за допомогою GridSearchCV з попереднього кроку."
   ]
  },
  {
   "cell_type": "markdown",
   "metadata": {},
   "source": [
    "<a class=\"anchor\" id=\"lab-6.5\"></a>"
   ]
  },
  {
   "cell_type": "markdown",
   "metadata": {},
   "source": [
    "## <span style=\"color:blue; font-size:1.2em;\">6.5. Порівняння моделей</span>\n",
    "\n",
    "[Повернутися до змісту](#lab-6)"
   ]
  },
  {
   "cell_type": "markdown",
   "metadata": {},
   "source": [
    "### <span style=\"color:red; font-size:1.5em;\">Завдання 5</span>\n",
    "\n",
    "**Для всіх варіантів:**\n",
    "\n",
    "Зробіть висновки щодо якості побудованих моделей: лінійна регресія, LASSO-регресія та випадковий ліс. Охорайтеризуйте знайдені оцінки впливу ознак на якість вина."
   ]
  },
  {
   "cell_type": "code",
   "execution_count": null,
   "metadata": {},
   "outputs": [],
   "source": []
  }
 ],
 "metadata": {
  "anaconda-cloud": {},
  "kernelspec": {
   "display_name": "Python 3 (ipykernel)",
   "language": "python",
   "name": "python3"
  },
  "language_info": {
   "codemirror_mode": {
    "name": "ipython",
    "version": 3
   },
   "file_extension": ".py",
   "mimetype": "text/x-python",
   "name": "python",
   "nbconvert_exporter": "python",
   "pygments_lexer": "ipython3",
   "version": "3.9.7"
  },
  "name": "lesson8_part1_kmeans.ipynb"
 },
 "nbformat": 4,
 "nbformat_minor": 4
}
