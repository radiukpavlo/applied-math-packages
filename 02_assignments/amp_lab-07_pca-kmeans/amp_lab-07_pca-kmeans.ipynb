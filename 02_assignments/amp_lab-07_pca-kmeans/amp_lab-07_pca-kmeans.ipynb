{
 "cells": [
  {
   "cell_type": "markdown",
   "metadata": {},
   "source": [
    "<h1><center>Лабораторна робота 7.</center></h1>\n",
    "<h2><center>Аналіз активності людини за відкритими даними мобільних телефонів</center></h2>"
   ]
  },
  {
   "cell_type": "markdown",
   "metadata": {},
   "source": [
    "**Виконав:** Прізвище І.П.\n",
    "\n",
    "**Варіант:** №__"
   ]
  },
  {
   "cell_type": "markdown",
   "metadata": {},
   "source": [
    "<a class=\"anchor\" id=\"lab-7\"></a>"
   ]
  },
  {
   "cell_type": "markdown",
   "metadata": {},
   "source": [
    "## Зміст\n",
    "\n",
    "- [7.1. Завантаження та підготовка даних](#lab-7.1)\n",
    "- [7.2. Застосування методу головних компонент](#lab-7.2)  \n",
    "- [7.3. Застосування *k*-means](#lab-7.3)\n",
    "- [7.4. Агломератична кластеризація](#lab-7.4)\n",
    "- [7.5. Застосування класифікатора після кластеризації](#lab-7.5)\n",
    "- [7.6. Кластеризація із методом головних компонент](#lab-7.6)"
   ]
  },
  {
   "cell_type": "markdown",
   "metadata": {},
   "source": [
    "<a class=\"anchor\" id=\"lab-7.1\"></a>"
   ]
  },
  {
   "cell_type": "markdown",
   "metadata": {},
   "source": [
    "## <span style=\"color:blue; font-size:1.2em;\">7.1. Завантаження та підготовка даних</span>\n",
    "\n",
    "[Повернутися до змісту](#lab-7)"
   ]
  },
  {
   "cell_type": "markdown",
   "metadata": {},
   "source": [
    "У цій лабораторній робота Вам потрібно розібратися з тим, як працюють методи пониження розмірності й кластеризації даних. Крім того, ще раз попрактикуємося із задачею класифікації.\n",
    "\n",
    "Тут ми працюватимемо з набором даних [Samsung Human Activity Recognition](https://archive.ics.uci.edu/ml/datasets/Human+Activity+Recognition+Using+Smartphones). Завантажте дані [звідси](https://drive.google.com/file/d/14RukQ0ylM2GCdViUHBBjZ2imCaYcjlux/view?usp=sharing).\n",
    "\n",
    "Дані взято з акселерометрів і гіроскопів мобільних телефонів Samsung Galaxy S3 (докладніше щодо ознак – за посиланням на UCI вище), також відомий вид активності людини з телефоном в кишені – чи ходила людина, стояла, лежала, сиділа або йшла вгору/вниз сходами.\n",
    "\n",
    "Спершу представимо, що вид активності нам невідомий, і спробуємо кластеризувати людей лише на основі наявних свідчень. Далі розв'яжемо завдання визначення виду фізичної активності саме як задачу класифікації."
   ]
  },
  {
   "cell_type": "code",
   "execution_count": 1,
   "metadata": {
    "tags": []
   },
   "outputs": [],
   "source": [
    "import numpy as np\n",
    "import pandas as pd\n",
    "import seaborn as sns\n",
    "from tqdm import tqdm_notebook\n",
    "\n",
    "%matplotlib inline\n",
    "from matplotlib import pyplot as plt\n",
    "plt.style.use(['seaborn-darkgrid'])\n",
    "plt.rcParams['figure.figsize'] = (12, 9)\n",
    "plt.rcParams['font.family'] = 'DejaVu Sans'\n",
    "\n",
    "from sklearn import metrics\n",
    "from sklearn.cluster import MiniBatchKMeans, AgglomerativeClustering, SpectralClustering\n",
    "from sklearn.decomposition import PCA\n",
    "from sklearn.model_selection import GridSearchCV\n",
    "from sklearn.preprocessing import StandardScaler\n",
    "from sklearn.svm import LinearSVC\n",
    "\n",
    "RANDOM_STATE = 17"
   ]
  },
  {
   "cell_type": "code",
   "execution_count": 2,
   "metadata": {
    "tags": []
   },
   "outputs": [],
   "source": [
    "X_train = np.loadtxt(\"samsung_HAR/samsung_train.txt\")\n",
    "y_train = np.loadtxt(\"samsung_HAR/samsung_train_labels.txt\").astype(int)\n",
    "\n",
    "X_test = np.loadtxt(\"samsung_HAR/samsung_test.txt\")\n",
    "y_test = np.loadtxt(\"samsung_HAR/samsung_test_labels.txt\").astype(int)"
   ]
  },
  {
   "cell_type": "code",
   "execution_count": 3,
   "metadata": {
    "tags": []
   },
   "outputs": [],
   "source": [
    "# Перевіримо розмірності\n",
    "assert(X_train.shape == (7352, 561) and y_train.shape == (7352,))\n",
    "assert(X_test.shape == (2947, 561) and y_test.shape == (2947,))"
   ]
  },
  {
   "cell_type": "markdown",
   "metadata": {},
   "source": [
    "Для кластеризації нам не потрібен вектор відповідей, тому будемо працювати з об'єднанням навчальної та тестової вибірок. Об'єднаємо `X_train` з `X_test` та `y_train` з `y_test`."
   ]
  },
  {
   "cell_type": "code",
   "execution_count": 4,
   "metadata": {
    "tags": []
   },
   "outputs": [],
   "source": [
    "X = np.vstack([X_train, X_test])\n",
    "y = np.hstack([y_train, y_test])"
   ]
  },
  {
   "cell_type": "markdown",
   "metadata": {},
   "source": [
    "Визначимо кількість унікальних значень міток цільового класу."
   ]
  },
  {
   "cell_type": "code",
   "execution_count": 5,
   "metadata": {},
   "outputs": [
    {
     "data": {
      "text/plain": [
       "array([1, 2, 3, 4, 5, 6])"
      ]
     },
     "execution_count": 5,
     "metadata": {},
     "output_type": "execute_result"
    }
   ],
   "source": [
    "np.unique(y)"
   ]
  },
  {
   "cell_type": "code",
   "execution_count": 6,
   "metadata": {},
   "outputs": [],
   "source": [
    "n_classes = np.unique(y).size"
   ]
  },
  {
   "cell_type": "markdown",
   "metadata": {},
   "source": [
    "Ці мітки [відповідають](https://archive.ics.uci.edu/ml/machine-learning-databases/00240/UCI%20HAR%20Dataset.names) таким значенням:\n",
    "- 1 – ходьба;\n",
    "- 2 – підйом вгору сходами;\n",
    "- 3 – спуску вниз сходами;\n",
    "- 4 – сидіння;\n",
    "- 5 – стояння;\n",
    "- 6 – лежання."
   ]
  },
  {
   "cell_type": "markdown",
   "metadata": {},
   "source": [
    "Виконаємо масштабування вибірки за допомогою `StandardScaler` з параметрами за замовчуванням:"
   ]
  },
  {
   "cell_type": "code",
   "execution_count": 7,
   "metadata": {
    "tags": []
   },
   "outputs": [],
   "source": [
    "scaler = StandardScaler()\n",
    "X_scaled = scaler.fit_transform(X)"
   ]
  },
  {
   "cell_type": "markdown",
   "metadata": {},
   "source": [
    "------------------------"
   ]
  },
  {
   "cell_type": "markdown",
   "metadata": {},
   "source": [
    "<a class=\"anchor\" id=\"lab-7.2\"></a>"
   ]
  },
  {
   "cell_type": "markdown",
   "metadata": {},
   "source": [
    "## <span style=\"color:blue; font-size:1.2em;\">7.2. Застосування методу головних компонент</span>\n",
    "\n",
    "[Повернутися до змісту](#lab-7)"
   ]
  },
  {
   "cell_type": "markdown",
   "metadata": {},
   "source": [
    "Виконайте зниження розмірності даних за допомогою PCA. Залишіть таку кількість компонент, щоби пояснити як мінімум 90% дисперсії оброблених (масштабованих) даних. Використовуйте масштабовану вибірку й зафіксуйте random_state (константа RANDOM_STATE)."
   ]
  },
  {
   "cell_type": "code",
   "execution_count": null,
   "metadata": {
    "tags": []
   },
   "outputs": [],
   "source": [
    "# Ваш код тут\n",
    "pca = \n",
    "X_pca = "
   ]
  },
  {
   "cell_type": "code",
   "execution_count": null,
   "metadata": {},
   "outputs": [],
   "source": [
    "# Переглядаємо кількість компонент\n",
    "X_pca.shape"
   ]
  },
  {
   "cell_type": "markdown",
   "metadata": {},
   "source": [
    "### <span style=\"color:red; font-size:1.5em;\">Завдання 1</span>\n",
    "\n",
    "\n",
    "**Для варіантів 1-5:**\n",
    "\n",
    "Виконайте ще одне пониження розмірності даних, але для пояснення 100% дисперсії. Порівняйте результати з точки зору необхідної кількості компонент.\n",
    "\n",
    "**Для варіантів 6-10:**\n",
    "\n",
    "Яку мінімальну кількість головних компонент потрібно виділити, щоб пояснити 90% дисперсії початкових (масштабованих) даних? \n",
    "\n",
    "**Для варіантів 11-15:**\n",
    "\n",
    "Скільки відсотків дисперсії припадає на першу головну компоненту? Використайте метод `explained_variance_ratio_`. Результат округліть до сотих.\n",
    "\n",
    "**Для варіантів 16-20:**\n",
    "\n",
    "Виведіть номер головної компоненти, на яку припадає найбільший % дисперсії (для 90% дисперсії). Використайте метод `explained_variance_ratio_`."
   ]
  },
  {
   "cell_type": "markdown",
   "metadata": {},
   "source": [
    "### <span style=\"color:red; font-size:1.5em;\">Додаткове завдання</span>\n",
    "\n",
    "**Для всіх варіантів:**\n",
    "\n",
    "Відобразіть дані в проекції на перші дві головні компоненти. Для візуалізації використайте `plt.scatter()`. \n",
    "\n",
    "Якщо візуалізацію виконано правильно, Ви побачите скільки-то кластерів, майже ідеально відокремлених один від одного. Які види активності входять в ці кластери?"
   ]
  },
  {
   "cell_type": "markdown",
   "metadata": {},
   "source": [
    "------------------------"
   ]
  },
  {
   "cell_type": "markdown",
   "metadata": {},
   "source": [
    "<a class=\"anchor\" id=\"lab-7.3\"></a>"
   ]
  },
  {
   "cell_type": "markdown",
   "metadata": {},
   "source": [
    "## <span style=\"color:blue; font-size:1.2em;\">7.3. Застосування *k*-means</span>\n",
    "\n",
    "[Повернутися до змісту](#lab-7)"
   ]
  },
  {
   "cell_type": "markdown",
   "metadata": {},
   "source": [
    "Виконайте кластеризацію даних методом `MiniBatchKmeans`, навчивши модель за даними зі зниженою за рахунок PCA розмірністю. Тут потрібно шукати саме 6 кластерів, але загалом у задачах без вчителя ми не знаємо, яку кількість кластерів треба шукати.\n",
    "\n",
    "Параметри:\n",
    "\n",
    "- **n_clusters** = n_classes (кількість унікальних міток цільового класу);\n",
    "- **n_init** = 100;\n",
    "- **random_state** = RANDOM_STATE (для відтворюваності результату)\n",
    "\n",
    "Остальные параметры со значениями по умолчанию."
   ]
  },
  {
   "cell_type": "code",
   "execution_count": null,
   "metadata": {},
   "outputs": [],
   "source": [
    "kmeans = # Ваш код тут\n",
    "\n",
    "kmeans.fit(X_pca)\n",
    "\n",
    "cluster_labels = # Ваш код тут"
   ]
  },
  {
   "cell_type": "markdown",
   "metadata": {},
   "source": [
    "Перегляньте відповідність між мітками кластерів і початковими мітками класів, а також гляньте на те, які види активностей алгоритм `MiniBatchKmeans` плутає."
   ]
  },
  {
   "cell_type": "code",
   "execution_count": null,
   "metadata": {},
   "outputs": [],
   "source": [
    "tab = crosstab(y, cluster_labels, margins=True)\n",
    "tab.index = ['ходьба', 'підйом вгору сходами', \n",
    "             'спуск вниз сходами', 'сидіння', 'стояння', 'лежання', 'всі']\n",
    "tab.columns = ['cluster' + str(i + 1) for i in range(6)] + ['всі']\n",
    "tab"
   ]
  },
  {
   "cell_type": "markdown",
   "metadata": {},
   "source": [
    "Бачимо, що кожному класу (тобто кожній активності) відповідають кілька кластерів. Давайте подивимося на максимальну частку об'єктів в класі, що відносяться до якогось одного кластеру. Ця частка буде простокою метрикою, що характеризує наскільки легко клас відділяється від інших під час кластеризування.\n",
    "\n",
    "Приклад: якщо для класу \"спуск сходами\", в якому 1406 об'єктів, розподіл кластерів є таким:\n",
    " - кластер 1 – 900;\n",
    " - кластер 3 – 500;\n",
    " - кластер 6 – 6,\n",
    " \n",
    "то така частка буде 900 / 1406 $\\approx$ 0.64."
   ]
  },
  {
   "cell_type": "markdown",
   "metadata": {},
   "source": [
    "Зазвичай, *k*-means не надто добре відрізняє тільки активності одну від одної. Тому використаємо метод ліктя, щоби вибрати оптимальну кількість кластерів. Параметри алгоритму й дані використовуємо ті ж, що і раніше, міняємо лише `n_clusters`."
   ]
  },
  {
   "cell_type": "code",
   "execution_count": null,
   "metadata": {},
   "outputs": [],
   "source": [
    "inertia = []\n",
    "for k in tqdm_notebook(range(1, n_classes + 1)):\n",
    "    kmeans = MiniBatchKmeans(n_clusters=k, n_init=100, \n",
    "                    random_state=RANDOM_STATE, n_jobs=1).fit(X_pca)\n",
    "    inertia.append(np.sqrt(kmeans.inertia_))\n",
    "\n",
    "plt.plot(range(1, 7), inertia, marker='s');"
   ]
  },
  {
   "cell_type": "markdown",
   "metadata": {},
   "source": [
    "### <span style=\"color:red; font-size:1.5em;\">Завдання 2</span>\n",
    "\n",
    "\n",
    "**Для варіантів 1-5:**\n",
    "\n",
    "Яка кількість кластерів є оптимальною? Для відповіді на це запитання використайте метод ліктя, а саме закодуйте $D(k)$ (аналогічно до прикладу з лекції).\n",
    "\n",
    "**Для варіантів 6-10:**\n",
    "\n",
    " Чи правда, що краще обрати 3 кластери для розбиття всієї відмасштабованої вибірки? Для відповіді на це запитання використайте метод ліктя, а саме закодуйте $D(k)$ (аналогічно до прикладу з лекції).\n",
    "\n",
    "**Для варіантів 11-15:**\n",
    "\n",
    "Обрахуйте, який вид активності відокремився від інших найкраще за метрикою частки об'єктів в класі (описано вище)?\n",
    "\n",
    "**Для варіантів 16-20:**\n",
    "\n",
    "Візуалізуйте дані в проекції на перші дві головні компоненти. Зображіть точки різними кольорами, відповідно до отриманих міток кластерів (`cluster_labels`). Використайте `plt.scatter()`."
   ]
  },
  {
   "cell_type": "markdown",
   "metadata": {},
   "source": [
    "------------------------"
   ]
  },
  {
   "cell_type": "markdown",
   "metadata": {},
   "source": [
    "<a class=\"anchor\" id=\"lab-7.4\"></a>"
   ]
  },
  {
   "cell_type": "markdown",
   "metadata": {},
   "source": [
    "## <span style=\"color:blue; font-size:1.2em;\">7.4. Агломератична кластеризація</span>\n",
    "\n",
    "[Повернутися до змісту](#lab-7)"
   ]
  },
  {
   "cell_type": "markdown",
   "metadata": {},
   "source": [
    "Спробуємо ще один алгоритм, що входить до групи ієрархічної кластеризації – агломеративну кластеризацію [`AgglomerativeClustering()`](https://scikit-learn.org/stable/modules/generated/sklearn.cluster.AgglomerativeClustering.html)."
   ]
  },
  {
   "cell_type": "code",
   "execution_count": null,
   "metadata": {},
   "outputs": [],
   "source": [
    "ag = # Ваш код тут"
   ]
  },
  {
   "cell_type": "markdown",
   "metadata": {},
   "source": [
    "Обрахуйте Adjusted Rand Index (ARI) для розбиття на два кластери за [`AgglomerativeClustering()`](https://scikit-learn.org/stable/modules/generated/sklearn.cluster.AgglomerativeClustering.html) та [`MiniBatchKmeans()`](https://scikit-learn.org/stable/modules/generated/sklearn.cluster.MiniBatchKMeans.html) з параметрами із пункту 7.3.\n",
    "\n",
    "Відповідно до знайденого значення ARI, дайте відповіді на запитання нижче."
   ]
  },
  {
   "cell_type": "markdown",
   "metadata": {},
   "source": [
    "### <span style=\"color:red; font-size:1.5em;\">Завдання 3</span>\n",
    "\n",
    "\n",
    "**Для варіантів 1-5:**\n",
    "\n",
    "Порівняйте значення ARI, знайденого для `AgglomerativeClustering()` та `MiniBatchKmeans()`. Поясніть, чому ці значення різні.\n",
    "\n",
    "**Для варіантів 6-10:**\n",
    "\n",
    "Відповідно до виконаних обрахунків, що впливає на значення ARI? Присвоєні мітки чи розбиття об'єктів на кластери? Наведіть коротке пояснення.\n",
    "\n",
    "**Для варіантів 11-15:**\n",
    "\n",
    "Чи правда, що для нашого прикладу `AgglomerativeClustering()` впорався з кластеризацією гірше, ніж `MiniBatchKmeans()`? Чому?\n",
    "\n",
    "**Для варіантів 16-20:**\n",
    "\n",
    "Чи правда, що у разі випадкового розбиття на кластери ARI буде близький до нуля. Чому?"
   ]
  },
  {
   "cell_type": "markdown",
   "metadata": {},
   "source": [
    "------------------------"
   ]
  },
  {
   "cell_type": "markdown",
   "metadata": {},
   "source": [
    "<a class=\"anchor\" id=\"lab-7.5\"></a>"
   ]
  },
  {
   "cell_type": "markdown",
   "metadata": {},
   "source": [
    "## <span style=\"color:blue; font-size:1.2em;\">7.5. Застосування класифікатора після кластеризації</span>\n",
    "\n",
    "[Повернутися до змісту](#lab-7)"
   ]
  },
  {
   "cell_type": "markdown",
   "metadata": {},
   "source": [
    "Можна помітити, що завдання не надто добре розв'язується саме як задача кластеризації, якщо виділяти лише кілька кластерів (>2). Спробуємо тепер розв'яжемо задачу класифікації; пам'ятаємо, що дані у нас розмічені.\n",
    "\n",
    "Для класифікації використайте метод опорних векторів – клас `sklearn.svm.LinearSVC`. В межах курсу ми не розглядали відокремлено цей алгоритм, проте він вкрай відомий, почитати про нього можна, наприклад, в документації scikit-learn під назвою [Support Vector Machines](https://scikit-learn.org/stable/modules/svm.html#). \n",
    "\n",
    "Налаштуйте для `LinearSVC` гіперпараметр `C` за допомогою `GridSearchCV` (cv=3). Виконайте навчання нового `StandardScaler` за навчальною вибіркою (з усіма початковими ознаками), застосуйте масштабування до тестової вибірки."
   ]
  },
  {
   "cell_type": "code",
   "execution_count": null,
   "metadata": {},
   "outputs": [],
   "source": [
    "scaler = StandardScaler()\n",
    "X_train_scaled = # Ваш код тут\n",
    "X_test_scaled = # Ваш код тут"
   ]
  },
  {
   "cell_type": "code",
   "execution_count": null,
   "metadata": {},
   "outputs": [],
   "source": [
    "svc = LinearSVC(random_state=RANDOM_STATE)\n",
    "svc_params = {'C': [0.001, 0.01, 0.1, 1, 10]}"
   ]
  },
  {
   "cell_type": "code",
   "execution_count": null,
   "metadata": {},
   "outputs": [],
   "source": [
    "%%time\n",
    "# Ваш код тут\n",
    "best_svc = GridSearchCV(...)\n",
    "best_svc.fit(X_train_scaled, y_train);"
   ]
  },
  {
   "cell_type": "code",
   "execution_count": null,
   "metadata": {},
   "outputs": [],
   "source": [
    "# Ваш код тут\n",
    "# Виведіть значення гіперпараметра С"
   ]
  },
  {
   "cell_type": "markdown",
   "metadata": {},
   "source": [
    "Виконайте прогноз за тестовим набором даних:"
   ]
  },
  {
   "cell_type": "code",
   "execution_count": null,
   "metadata": {},
   "outputs": [],
   "source": [
    "y_predicted = # Ваш код тут"
   ]
  },
  {
   "cell_type": "markdown",
   "metadata": {},
   "source": [
    "Вивидимо результат розподілення класів у таблиці:"
   ]
  },
  {
   "cell_type": "code",
   "execution_count": null,
   "metadata": {},
   "outputs": [],
   "source": [
    "tab = pd.crosstab(y_test, y_predicted, margins=True)\n",
    "tab.index = ['ходьба', 'підйом вгору сходами', 'спуску вниз сходами', \n",
    "             'сидіння', 'стояння', 'лежання', 'всі']\n",
    "tab.columns = tab.index\n",
    "tab"
   ]
  },
  {
   "cell_type": "markdown",
   "metadata": {},
   "source": [
    "### <span style=\"color:red; font-size:1.5em;\">Завдання 4</span>\n",
    "\n",
    "Для відповіді на запитання нижче використайте `metrics.classification_report()`:\n",
    "\n",
    "**Для варіантів 1-5:**\n",
    "\n",
    "Обрахуйте частку правильних відповідей (accuracy) класифікатора SVM? Виведіть значення відповідної метрики за допомогою коду.\n",
    "\n",
    "**Для варіантів 6-10:**\n",
    "\n",
    "Який вид активності SVM визначає найгірше за метрикою влучності (precision)? Виведіть назву відповідної ознаки (вид активності) та значення відповідної метрики за допомогою коду.\n",
    "\n",
    "**Для варіантів 11-15:**\n",
    "\n",
    "Який вид активності SVM визначає найгірше за метрикою повноти (recall)? Виведіть назву відповідної ознаки (вид активності) та значення відповідної метрики за допомогою коду.\n",
    "\n",
    "**Для варіантів 16-20:**\n",
    "\n",
    "Який вид активності SVM визначає найгірше за метрикою $F$-міри (f1-score)? Виведіть назву відповідної ознаки (вид активності) та значення відповідної метрики за допомогою коду."
   ]
  },
  {
   "cell_type": "markdown",
   "metadata": {},
   "source": [
    "------------------------"
   ]
  },
  {
   "cell_type": "markdown",
   "metadata": {},
   "source": [
    "<a class=\"anchor\" id=\"lab-7.6\"></a>"
   ]
  },
  {
   "cell_type": "markdown",
   "metadata": {},
   "source": [
    "## <span style=\"color:blue; font-size:1.2em;\">7.6. Кластеризація із методом головних компонент</span>\n",
    "\n",
    "[Повернутися до змісту](#lab-7)"
   ]
  },
  {
   "cell_type": "markdown",
   "metadata": {},
   "source": [
    "Виконайте навчання класифікатора, повторивши всі попередні дії (завдання 4) з додаванням PCA:\n",
    "\n",
    "- Використовуйте вибірки `X_train_scaled` і `X_test_scaled`.\n",
    "- Навчіть той же PCA, що й раніше за масштабованою навчальною вибіркою; застосуйте перетворення до тестової вибірки.\n",
    "- Налаштуйте гіперпараметр `C` на крос-валідації за навчальною вибіркою з PCA-перетворенням."
   ]
  },
  {
   "cell_type": "code",
   "execution_count": null,
   "metadata": {},
   "outputs": [],
   "source": [
    "scaler = StandardScaler()\n",
    "X_train_scaled = # Ваш код тут\n",
    "X_test_scaled = # Ваш код тут\n",
    "\n",
    "pca = PCA(...)\n",
    "X_train_pca = # Ваш код тут\n",
    "X_test_pca = # Ваш код тут"
   ]
  },
  {
   "cell_type": "code",
   "execution_count": null,
   "metadata": {},
   "outputs": [],
   "source": [
    "svc = LinearSVC(random_state=RANDOM_STATE)\n",
    "svc_params = {'C': [0.001, 0.01, 0.1, 1, 10]}"
   ]
  },
  {
   "cell_type": "code",
   "execution_count": null,
   "metadata": {},
   "outputs": [],
   "source": [
    "%%time\n",
    "best_svc_pca = # Ваш код тут\n",
    "best_svc_pca.fit(...);"
   ]
  },
  {
   "cell_type": "markdown",
   "metadata": {},
   "source": [
    "### <span style=\"color:red; font-size:1.5em;\">Завдання 5</span>\n",
    "\n",
    "Обрахуйте метрики за класифікатором SCV та з використанням PCA:\n",
    "\n",
    "**Для варіантів 1-5:**\n",
    "\n",
    "Яка різниця між кращою якістю (accuracy) на крос-валідації за використанням всіх 561 початкових ознак і за  використання методу головних компонент? Заокругліть значення метрики до сотих.\n",
    "\n",
    "**Для варіантів 6-10:**\n",
    "\n",
    "Порівняйте значення влучності (precision), отриманого за всіма ознаками (завдання 4) і з використанням PCA. Вкажіть переваги/недоліки застосування PCA до навчальної вибірки.\n",
    "\n",
    "**Для варіантів 11-15:**\n",
    "\n",
    "Порівняйте значення повноти (recall), отриманого за всіма ознаками (завдання 4) і з використанням PCA. Вкажіть переваги/недоліки застосування PCA до навчальної вибірки.\n",
    "\n",
    "**Для варіантів 16-20:**\n",
    "\n",
    "Порівняйте значення $F$-міри (f1-score), отриманої за всіма ознаками (завдання 4) і з використанням PCA. Вкажіть переваги/недоліки застосування PCA до навчальної вибірки."
   ]
  },
  {
   "cell_type": "code",
   "execution_count": null,
   "metadata": {},
   "outputs": [],
   "source": []
  }
 ],
 "metadata": {
  "anaconda-cloud": {},
  "kernelspec": {
   "display_name": "Python 3 (ipykernel)",
   "language": "python",
   "name": "python3"
  },
  "language_info": {
   "codemirror_mode": {
    "name": "ipython",
    "version": 3
   },
   "file_extension": ".py",
   "mimetype": "text/x-python",
   "name": "python",
   "nbconvert_exporter": "python",
   "pygments_lexer": "ipython3",
   "version": "3.9.7"
  }
 },
 "nbformat": 4,
 "nbformat_minor": 4
}
