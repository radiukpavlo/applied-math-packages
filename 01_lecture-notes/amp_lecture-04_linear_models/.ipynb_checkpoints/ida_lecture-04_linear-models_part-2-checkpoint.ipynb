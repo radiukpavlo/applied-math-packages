{
 "cells": [
  {
   "cell_type": "markdown",
   "metadata": {},
   "source": [
    "# <center>Лекція 4. Лінійні моделі класифікації і регресії\n",
    "## <center>Частина 2"
   ]
  },
  {
   "cell_type": "markdown",
   "metadata": {},
   "source": [
    "<a class=\"anchor\" id=\"4-2\"></a>"
   ]
  },
  {
   "cell_type": "markdown",
   "metadata": {},
   "source": [
    "## Зміст \n",
    "\n",
    "- [4.3. Приклад регуляризації логістичної регресії](#4.3)\n",
    "    + [4.3.1. Логістична регресія з поліноміальними ознаками](#4.3.1)\n",
    "    + [4.3.2. Налаштування параметра регуляризації](#4.3.2)\n",
    "- [4.4. Де логістична регресія працює добре, а де не дуже](#4.4)\n",
    "    + [4.4.1. Аналіз відгуків IMDB до фільмів](#4.4.1)\n",
    "    + [4.4.2. Простий підрахунок слів](#4.4.2)\n",
    "    + [4.4.3. XOR-проблема](#4.4.3)\n",
    "- [4.5. Криві валідації й навчання](#4.5)\n",
    "    + [4.5.1. Як покращити модель?](#4.5.1)\n",
    "    + [4.5.2. Скільки потрібно даних?](#4.5.2)"
   ]
  },
  {
   "cell_type": "markdown",
   "metadata": {},
   "source": [
    "<a class=\"anchor\" id=\"4.3\"></a>"
   ]
  },
  {
   "cell_type": "markdown",
   "metadata": {},
   "source": [
    "## <span style=\"color:blue; font-size:1.2em;\">4.3. Приклад регуляризації логістичної регресії</span>\n",
    "\n",
    "[Повернутися до змісту](#4-2)"
   ]
  },
  {
   "cell_type": "markdown",
   "metadata": {},
   "source": [
    "У 1-ій частині лекції вже наводився приклад того, як поліноміальні ознаки дають змогу лінійним моделям будувати нелінійні розділяючі поверхні. Покажемо це на рисунках.\n",
    "\n",
    "Подивимося, як регуляризація впливає на якість класифікації за набором даних щодо тестування мікрочіпів з [курсу Andrew Ng](https://www.coursera.org/learn/machine-learning) по машинному навчанню."
   ]
  },
  {
   "cell_type": "markdown",
   "metadata": {},
   "source": [
    "<a class=\"anchor\" id=\"4.3.1\"></a>"
   ]
  },
  {
   "cell_type": "markdown",
   "metadata": {},
   "source": [
    "### <span style=\"color:blue; font-size:1.2em;\">4.3.1. Логістична регресія з поліноміальними ознаками</span>\n",
    "\n",
    "[Повернутися до змісту](#4-2)"
   ]
  },
  {
   "cell_type": "markdown",
   "metadata": {},
   "source": [
    "Будемо використовувати логістичну регресію з поліноміальними ознаками і змінювати значення параметра регуляризації C. Спочатку подивимося, як регуляризація впливає на розділяючу границю класифікатора, інтуїтивно розпізнаємо перенавчання і недонавчання. Далі чисельно встановимо близький до оптимального параметр регуляризації за допомогою крос-валідації (`cross-validation`) і сіточного перебору (`GridSearch`)."
   ]
  },
  {
   "cell_type": "code",
   "execution_count": 1,
   "metadata": {},
   "outputs": [],
   "source": [
    "from __future__ import division, print_function\n",
    "\n",
    "# відключимо всякі попередження Anaconda\n",
    "import warnings\n",
    "warnings.filterwarnings('ignore')\n",
    "%matplotlib inline\n",
    "from matplotlib import pyplot as plt\n",
    "import seaborn as sns\n",
    "\n",
    "import numpy as np\n",
    "import pandas as pd\n",
    "from sklearn.preprocessing import PolynomialFeatures\n",
    "from sklearn.linear_model import LogisticRegression, LogisticRegressionCV\n",
    "from sklearn.model_selection import cross_val_score, StratifiedKFold"
   ]
  },
  {
   "cell_type": "markdown",
   "metadata": {},
   "source": [
    "Завантажуємо дані за допомогою методу `read_csv` бібліотеки` pandas`. У цьому наборі даних для 118 мікрочіпів (об'єкти) вказані результати двох тестів з контролю якості (дві числових ознаки) і вказано чи запустили мікрочіп у виробництво. Ознаки вже центровані, тобто від усіх значень віднято середні значення за стовпцями. Так, \"середньому\" мікрочіпу відповідають нульові значення результатів тестів."
   ]
  },
  {
   "cell_type": "code",
   "execution_count": 2,
   "metadata": {},
   "outputs": [
    {
     "name": "stdout",
     "output_type": "stream",
     "text": [
      "<class 'pandas.core.frame.DataFrame'>\n",
      "MultiIndex: 3334 entries, ('State', 'Account length', 'Area code', 'International plan', 'Voice mail plan', 'Number vmail messages', 'Total day minutes', 'Total day calls', 'Total day charge', 'Total eve minutes', 'Total eve calls', 'Total eve charge', 'Total night minutes', 'Total night calls', 'Total night charge', 'Total intl minutes', 'Total intl calls') to ('TN', '74', '415', 'No', 'Yes', '25', '234.4', '113', '39.85', '265.9', '82', '22.6', '241.4', '77', '10.86', '13.7', '4')\n",
      "Data columns (total 3 columns):\n",
      " #   Column    Non-Null Count  Dtype \n",
      "---  ------    --------------  ----- \n",
      " 0   test1     3334 non-null   object\n",
      " 1   test2     3334 non-null   object\n",
      " 2   released  3334 non-null   object\n",
      "dtypes: object(3)\n",
      "memory usage: 587.4+ KB\n"
     ]
    }
   ],
   "source": [
    "# завантаження данних\n",
    "data_microchip_tests = 'https://raw.githubusercontent.com/radiukpavlo/Intelligent-data-analysis/main/01_lecture-notes/ida_lecture-04_linear_models/microchip_tests.txt'\n",
    "\n",
    "data = pd.read_csv(data_microchip_tests,\n",
    "                   header=None, names = ('test1','test2','released'))\n",
    "\n",
    "# інформація про набір даних\n",
    "data.info()"
   ]
  },
  {
   "cell_type": "markdown",
   "metadata": {},
   "source": [
    "Подивимося на перші й останні 5 рядків."
   ]
  },
  {
   "cell_type": "code",
   "execution_count": 3,
   "metadata": {},
   "outputs": [
    {
     "data": {
      "text/html": [
       "<div>\n",
       "<style scoped>\n",
       "    .dataframe tbody tr th:only-of-type {\n",
       "        vertical-align: middle;\n",
       "    }\n",
       "\n",
       "    .dataframe tbody tr th {\n",
       "        vertical-align: top;\n",
       "    }\n",
       "\n",
       "    .dataframe thead th {\n",
       "        text-align: right;\n",
       "    }\n",
       "</style>\n",
       "<table border=\"1\" class=\"dataframe\">\n",
       "  <thead>\n",
       "    <tr style=\"text-align: right;\">\n",
       "      <th></th>\n",
       "      <th></th>\n",
       "      <th></th>\n",
       "      <th></th>\n",
       "      <th></th>\n",
       "      <th></th>\n",
       "      <th></th>\n",
       "      <th></th>\n",
       "      <th></th>\n",
       "      <th></th>\n",
       "      <th></th>\n",
       "      <th></th>\n",
       "      <th></th>\n",
       "      <th></th>\n",
       "      <th></th>\n",
       "      <th></th>\n",
       "      <th></th>\n",
       "      <th>test1</th>\n",
       "      <th>test2</th>\n",
       "      <th>released</th>\n",
       "    </tr>\n",
       "  </thead>\n",
       "  <tbody>\n",
       "    <tr>\n",
       "      <th>State</th>\n",
       "      <th>Account length</th>\n",
       "      <th>Area code</th>\n",
       "      <th>International plan</th>\n",
       "      <th>Voice mail plan</th>\n",
       "      <th>Number vmail messages</th>\n",
       "      <th>Total day minutes</th>\n",
       "      <th>Total day calls</th>\n",
       "      <th>Total day charge</th>\n",
       "      <th>Total eve minutes</th>\n",
       "      <th>Total eve calls</th>\n",
       "      <th>Total eve charge</th>\n",
       "      <th>Total night minutes</th>\n",
       "      <th>Total night calls</th>\n",
       "      <th>Total night charge</th>\n",
       "      <th>Total intl minutes</th>\n",
       "      <th>Total intl calls</th>\n",
       "      <td>Total intl charge</td>\n",
       "      <td>Customer service calls</td>\n",
       "      <td>Churn</td>\n",
       "    </tr>\n",
       "    <tr>\n",
       "      <th>KS</th>\n",
       "      <th>128</th>\n",
       "      <th>415</th>\n",
       "      <th>No</th>\n",
       "      <th>Yes</th>\n",
       "      <th>25</th>\n",
       "      <th>265.1</th>\n",
       "      <th>110</th>\n",
       "      <th>45.07</th>\n",
       "      <th>197.4</th>\n",
       "      <th>99</th>\n",
       "      <th>16.78</th>\n",
       "      <th>244.7</th>\n",
       "      <th>91</th>\n",
       "      <th>11.01</th>\n",
       "      <th>10.0</th>\n",
       "      <th>3</th>\n",
       "      <td>2.7</td>\n",
       "      <td>1</td>\n",
       "      <td>False</td>\n",
       "    </tr>\n",
       "    <tr>\n",
       "      <th>OH</th>\n",
       "      <th>107</th>\n",
       "      <th>415</th>\n",
       "      <th>No</th>\n",
       "      <th>Yes</th>\n",
       "      <th>26</th>\n",
       "      <th>161.6</th>\n",
       "      <th>123</th>\n",
       "      <th>27.47</th>\n",
       "      <th>195.5</th>\n",
       "      <th>103</th>\n",
       "      <th>16.62</th>\n",
       "      <th>254.4</th>\n",
       "      <th>103</th>\n",
       "      <th>11.45</th>\n",
       "      <th>13.7</th>\n",
       "      <th>3</th>\n",
       "      <td>3.7</td>\n",
       "      <td>1</td>\n",
       "      <td>False</td>\n",
       "    </tr>\n",
       "    <tr>\n",
       "      <th>NJ</th>\n",
       "      <th>137</th>\n",
       "      <th>415</th>\n",
       "      <th>No</th>\n",
       "      <th>No</th>\n",
       "      <th>0</th>\n",
       "      <th>243.4</th>\n",
       "      <th>114</th>\n",
       "      <th>41.38</th>\n",
       "      <th>121.2</th>\n",
       "      <th>110</th>\n",
       "      <th>10.3</th>\n",
       "      <th>162.6</th>\n",
       "      <th>104</th>\n",
       "      <th>7.32</th>\n",
       "      <th>12.2</th>\n",
       "      <th>5</th>\n",
       "      <td>3.29</td>\n",
       "      <td>0</td>\n",
       "      <td>False</td>\n",
       "    </tr>\n",
       "    <tr>\n",
       "      <th>OH</th>\n",
       "      <th>84</th>\n",
       "      <th>408</th>\n",
       "      <th>Yes</th>\n",
       "      <th>No</th>\n",
       "      <th>0</th>\n",
       "      <th>299.4</th>\n",
       "      <th>71</th>\n",
       "      <th>50.9</th>\n",
       "      <th>61.9</th>\n",
       "      <th>88</th>\n",
       "      <th>5.26</th>\n",
       "      <th>196.9</th>\n",
       "      <th>89</th>\n",
       "      <th>8.86</th>\n",
       "      <th>6.6</th>\n",
       "      <th>7</th>\n",
       "      <td>1.78</td>\n",
       "      <td>2</td>\n",
       "      <td>False</td>\n",
       "    </tr>\n",
       "  </tbody>\n",
       "</table>\n",
       "</div>"
      ],
      "text/plain": [
       "                                                                                                                                                                                                                                                                                                        test1  \\\n",
       "State Account length Area code International plan Voice mail plan Number vmail messages Total day minutes Total day calls Total day charge Total eve minutes Total eve calls Total eve charge Total night minutes Total night calls Total night charge Total intl minutes Total intl calls  Total intl charge   \n",
       "KS    128            415       No                 Yes             25                    265.1             110             45.07            197.4             99              16.78            244.7               91                11.01              10.0               3                               2.7   \n",
       "OH    107            415       No                 Yes             26                    161.6             123             27.47            195.5             103             16.62            254.4               103               11.45              13.7               3                               3.7   \n",
       "NJ    137            415       No                 No              0                     243.4             114             41.38            121.2             110             10.3             162.6               104               7.32               12.2               5                              3.29   \n",
       "OH    84             408       Yes                No              0                     299.4             71              50.9             61.9              88              5.26             196.9               89                8.86               6.6                7                              1.78   \n",
       "\n",
       "                                                                                                                                                                                                                                                                                                             test2  \\\n",
       "State Account length Area code International plan Voice mail plan Number vmail messages Total day minutes Total day calls Total day charge Total eve minutes Total eve calls Total eve charge Total night minutes Total night calls Total night charge Total intl minutes Total intl calls  Customer service calls   \n",
       "KS    128            415       No                 Yes             25                    265.1             110             45.07            197.4             99              16.78            244.7               91                11.01              10.0               3                                      1   \n",
       "OH    107            415       No                 Yes             26                    161.6             123             27.47            195.5             103             16.62            254.4               103               11.45              13.7               3                                      1   \n",
       "NJ    137            415       No                 No              0                     243.4             114             41.38            121.2             110             10.3             162.6               104               7.32               12.2               5                                      0   \n",
       "OH    84             408       Yes                No              0                     299.4             71              50.9             61.9              88              5.26             196.9               89                8.86               6.6                7                                      2   \n",
       "\n",
       "                                                                                                                                                                                                                                                                                           released  \n",
       "State Account length Area code International plan Voice mail plan Number vmail messages Total day minutes Total day calls Total day charge Total eve minutes Total eve calls Total eve charge Total night minutes Total night calls Total night charge Total intl minutes Total intl calls    Churn  \n",
       "KS    128            415       No                 Yes             25                    265.1             110             45.07            197.4             99              16.78            244.7               91                11.01              10.0               3                   False  \n",
       "OH    107            415       No                 Yes             26                    161.6             123             27.47            195.5             103             16.62            254.4               103               11.45              13.7               3                   False  \n",
       "NJ    137            415       No                 No              0                     243.4             114             41.38            121.2             110             10.3             162.6               104               7.32               12.2               5                   False  \n",
       "OH    84             408       Yes                No              0                     299.4             71              50.9             61.9              88              5.26             196.9               89                8.86               6.6                7                   False  "
      ]
     },
     "execution_count": 3,
     "metadata": {},
     "output_type": "execute_result"
    }
   ],
   "source": [
    "data.head(5)"
   ]
  },
  {
   "cell_type": "code",
   "execution_count": 4,
   "metadata": {},
   "outputs": [
    {
     "data": {
      "text/html": [
       "<div>\n",
       "<style scoped>\n",
       "    .dataframe tbody tr th:only-of-type {\n",
       "        vertical-align: middle;\n",
       "    }\n",
       "\n",
       "    .dataframe tbody tr th {\n",
       "        vertical-align: top;\n",
       "    }\n",
       "\n",
       "    .dataframe thead th {\n",
       "        text-align: right;\n",
       "    }\n",
       "</style>\n",
       "<table border=\"1\" class=\"dataframe\">\n",
       "  <thead>\n",
       "    <tr style=\"text-align: right;\">\n",
       "      <th></th>\n",
       "      <th></th>\n",
       "      <th></th>\n",
       "      <th></th>\n",
       "      <th></th>\n",
       "      <th></th>\n",
       "      <th></th>\n",
       "      <th></th>\n",
       "      <th></th>\n",
       "      <th></th>\n",
       "      <th></th>\n",
       "      <th></th>\n",
       "      <th></th>\n",
       "      <th></th>\n",
       "      <th></th>\n",
       "      <th></th>\n",
       "      <th></th>\n",
       "      <th>test1</th>\n",
       "      <th>test2</th>\n",
       "      <th>released</th>\n",
       "    </tr>\n",
       "  </thead>\n",
       "  <tbody>\n",
       "    <tr>\n",
       "      <th>AZ</th>\n",
       "      <th>192</th>\n",
       "      <th>415</th>\n",
       "      <th>No</th>\n",
       "      <th>Yes</th>\n",
       "      <th>36</th>\n",
       "      <th>156.2</th>\n",
       "      <th>77</th>\n",
       "      <th>26.55</th>\n",
       "      <th>215.5</th>\n",
       "      <th>126</th>\n",
       "      <th>18.32</th>\n",
       "      <th>279.1</th>\n",
       "      <th>83</th>\n",
       "      <th>12.56</th>\n",
       "      <th>9.9</th>\n",
       "      <th>6</th>\n",
       "      <td>2.67</td>\n",
       "      <td>2</td>\n",
       "      <td>False</td>\n",
       "    </tr>\n",
       "    <tr>\n",
       "      <th>WV</th>\n",
       "      <th>68</th>\n",
       "      <th>415</th>\n",
       "      <th>No</th>\n",
       "      <th>No</th>\n",
       "      <th>0</th>\n",
       "      <th>231.1</th>\n",
       "      <th>57</th>\n",
       "      <th>39.29</th>\n",
       "      <th>153.4</th>\n",
       "      <th>55</th>\n",
       "      <th>13.04</th>\n",
       "      <th>191.3</th>\n",
       "      <th>123</th>\n",
       "      <th>8.61</th>\n",
       "      <th>9.6</th>\n",
       "      <th>4</th>\n",
       "      <td>2.59</td>\n",
       "      <td>3</td>\n",
       "      <td>False</td>\n",
       "    </tr>\n",
       "    <tr>\n",
       "      <th>RI</th>\n",
       "      <th>28</th>\n",
       "      <th>510</th>\n",
       "      <th>No</th>\n",
       "      <th>No</th>\n",
       "      <th>0</th>\n",
       "      <th>180.8</th>\n",
       "      <th>109</th>\n",
       "      <th>30.74</th>\n",
       "      <th>288.8</th>\n",
       "      <th>58</th>\n",
       "      <th>24.55</th>\n",
       "      <th>191.9</th>\n",
       "      <th>91</th>\n",
       "      <th>8.64</th>\n",
       "      <th>14.1</th>\n",
       "      <th>6</th>\n",
       "      <td>3.81</td>\n",
       "      <td>2</td>\n",
       "      <td>False</td>\n",
       "    </tr>\n",
       "    <tr>\n",
       "      <th>CT</th>\n",
       "      <th>184</th>\n",
       "      <th>510</th>\n",
       "      <th>Yes</th>\n",
       "      <th>No</th>\n",
       "      <th>0</th>\n",
       "      <th>213.8</th>\n",
       "      <th>105</th>\n",
       "      <th>36.35</th>\n",
       "      <th>159.6</th>\n",
       "      <th>84</th>\n",
       "      <th>13.57</th>\n",
       "      <th>139.2</th>\n",
       "      <th>137</th>\n",
       "      <th>6.26</th>\n",
       "      <th>5.0</th>\n",
       "      <th>10</th>\n",
       "      <td>1.35</td>\n",
       "      <td>2</td>\n",
       "      <td>False</td>\n",
       "    </tr>\n",
       "    <tr>\n",
       "      <th>TN</th>\n",
       "      <th>74</th>\n",
       "      <th>415</th>\n",
       "      <th>No</th>\n",
       "      <th>Yes</th>\n",
       "      <th>25</th>\n",
       "      <th>234.4</th>\n",
       "      <th>113</th>\n",
       "      <th>39.85</th>\n",
       "      <th>265.9</th>\n",
       "      <th>82</th>\n",
       "      <th>22.6</th>\n",
       "      <th>241.4</th>\n",
       "      <th>77</th>\n",
       "      <th>10.86</th>\n",
       "      <th>13.7</th>\n",
       "      <th>4</th>\n",
       "      <td>3.7</td>\n",
       "      <td>0</td>\n",
       "      <td>False</td>\n",
       "    </tr>\n",
       "  </tbody>\n",
       "</table>\n",
       "</div>"
      ],
      "text/plain": [
       "                                                                              test1  \\\n",
       "AZ 192 415 No  Yes 36 156.2 77  26.55 215.5 126 18.32 279.1 83  12.56 9.9  6   2.67   \n",
       "WV 68  415 No  No  0  231.1 57  39.29 153.4 55  13.04 191.3 123 8.61  9.6  4   2.59   \n",
       "RI 28  510 No  No  0  180.8 109 30.74 288.8 58  24.55 191.9 91  8.64  14.1 6   3.81   \n",
       "CT 184 510 Yes No  0  213.8 105 36.35 159.6 84  13.57 139.2 137 6.26  5.0  10  1.35   \n",
       "TN 74  415 No  Yes 25 234.4 113 39.85 265.9 82  22.6  241.4 77  10.86 13.7 4    3.7   \n",
       "\n",
       "                                                                              test2  \\\n",
       "AZ 192 415 No  Yes 36 156.2 77  26.55 215.5 126 18.32 279.1 83  12.56 9.9  6      2   \n",
       "WV 68  415 No  No  0  231.1 57  39.29 153.4 55  13.04 191.3 123 8.61  9.6  4      3   \n",
       "RI 28  510 No  No  0  180.8 109 30.74 288.8 58  24.55 191.9 91  8.64  14.1 6      2   \n",
       "CT 184 510 Yes No  0  213.8 105 36.35 159.6 84  13.57 139.2 137 6.26  5.0  10     2   \n",
       "TN 74  415 No  Yes 25 234.4 113 39.85 265.9 82  22.6  241.4 77  10.86 13.7 4      0   \n",
       "\n",
       "                                                                              released  \n",
       "AZ 192 415 No  Yes 36 156.2 77  26.55 215.5 126 18.32 279.1 83  12.56 9.9  6     False  \n",
       "WV 68  415 No  No  0  231.1 57  39.29 153.4 55  13.04 191.3 123 8.61  9.6  4     False  \n",
       "RI 28  510 No  No  0  180.8 109 30.74 288.8 58  24.55 191.9 91  8.64  14.1 6     False  \n",
       "CT 184 510 Yes No  0  213.8 105 36.35 159.6 84  13.57 139.2 137 6.26  5.0  10    False  \n",
       "TN 74  415 No  Yes 25 234.4 113 39.85 265.9 82  22.6  241.4 77  10.86 13.7 4     False  "
      ]
     },
     "execution_count": 4,
     "metadata": {},
     "output_type": "execute_result"
    }
   ],
   "source": [
    "data.tail(5)"
   ]
  },
  {
   "cell_type": "markdown",
   "metadata": {},
   "source": [
    "Збережемо навчальну вибірку й мітки цільового класу в окремих масивах `numpy`."
   ]
  },
  {
   "cell_type": "code",
   "execution_count": 13,
   "metadata": {},
   "outputs": [],
   "source": [
    "X = data.iloc[:,:2].values\n",
    "y = data.iloc[:,2].values"
   ]
  },
  {
   "cell_type": "markdown",
   "metadata": {},
   "source": [
    "Відобразимо дані. Червоний колір відповідає Defectiveим чіпам, зелений – нормальним."
   ]
  },
  {
   "cell_type": "code",
   "execution_count": 14,
   "metadata": {},
   "outputs": [
    {
     "data": {
      "image/png": "[encoded data removed]",
      "text/plain": [
       "<Figure size 432x288 with 1 Axes>"
      ]
     },
     "metadata": {
      "needs_background": "light"
     },
     "output_type": "display_data"
    }
   ],
   "source": [
    "plt.scatter(X[y == 1, 0], X[y == 1, 1], c='green', label='Released')\n",
    "plt.scatter(X[y == 0, 0], X[y == 0, 1], c='red', label='Defective')\n",
    "plt.xlabel(\"Test 1\")\n",
    "plt.ylabel(\"Test 2\")\n",
    "plt.title('2 microchip tests')\n",
    "plt.legend();"
   ]
  },
  {
   "cell_type": "markdown",
   "metadata": {},
   "source": [
    "Визначаємо функцію для відображення розділяючої кривої класифікатора"
   ]
  },
  {
   "cell_type": "code",
   "execution_count": 8,
   "metadata": {},
   "outputs": [],
   "source": [
    "def plot_boundary(clf, X, y, grid_step=.01, poly_featurizer=None):\n",
    "    x_min, x_max = X[:, 0].min() - .1, X[:, 0].max() + .1\n",
    "    y_min, y_max = X[:, 1].min() - .1, X[:, 1].max() + .1\n",
    "    xx, yy = np.meshgrid(np.arange(x_min, x_max, grid_step),\n",
    "                         np.arange(y_min, y_max, grid_step))\n",
    "\n",
    "\n",
    "    # кожній точці в сітці [x_min, m_max]x[y_min, y_max]\n",
    "    # ставимо у відповідність свій колір\n",
    "    Z = clf.predict(poly_featurizer.transform(np.c_[xx.ravel(), yy.ravel()]))\n",
    "    Z = Z.reshape(xx.shape)\n",
    "    plt.contour(xx, yy, Z, cmap=plt.cm.Paired)"
   ]
  },
  {
   "cell_type": "markdown",
   "metadata": {},
   "source": [
    "Поліноміальними ознаками до степеня $d$ для двох змінних $x_1$ і $x_2$ ми називаємо такі:\n",
    "\n",
    "$$\\large \\{x_1^d, x_1^{d-1}x_2, \\ldots x_2^d\\} =  \\{x_1^ix_2^j\\}_{i+j=d, i,j \\in \\mathbb{N}}$$\n",
    "\n",
    "Наприклад, для $d=3$ це будуть такі ознаки:\n",
    "\n",
    "$$\\large 1, x_1, x_2,  x_1^2, x_1x_2, x_2^2, x_1^3, x_1^2x_2, x_1x_2^2, x_2^3$$\n",
    "\n",
    "Намалювавши трикутник Піфагора, ви зрозумієте, скільки таких ознак буде для $d=4,5...$ і взагалі для будь-якого $d$.\n",
    "Простіше кажучи, таких ознак експоненціально багато, і будувати, скажімо, для 100 ознак поліноміальні степеня 10 може виявитися затратно (а більш того, і не потрібно)."
   ]
  },
  {
   "cell_type": "markdown",
   "metadata": {},
   "source": [
    "Створимо об'єкт `sklearn`, який додасть до матриці $X$ поліноміальні ознаки аж до степеня 7."
   ]
  },
  {
   "cell_type": "code",
   "execution_count": 9,
   "metadata": {},
   "outputs": [
    {
     "ename": "ValueError",
     "evalue": "could not convert string to float: 'Total intl charge'",
     "output_type": "error",
     "traceback": [
      "\u001b[1;31m---------------------------------------------------------------------------\u001b[0m",
      "\u001b[1;31mValueError\u001b[0m                                Traceback (most recent call last)",
      "\u001b[1;32m<ipython-input-9-be3b9c645a63>\u001b[0m in \u001b[0;36m<module>\u001b[1;34m\u001b[0m\n\u001b[0;32m      1\u001b[0m \u001b[0mpoly\u001b[0m \u001b[1;33m=\u001b[0m \u001b[0mPolynomialFeatures\u001b[0m\u001b[1;33m(\u001b[0m\u001b[0mdegree\u001b[0m\u001b[1;33m=\u001b[0m\u001b[1;36m7\u001b[0m\u001b[1;33m)\u001b[0m\u001b[1;33m\u001b[0m\u001b[1;33m\u001b[0m\u001b[0m\n\u001b[1;32m----> 2\u001b[1;33m \u001b[0mX_poly\u001b[0m \u001b[1;33m=\u001b[0m \u001b[0mpoly\u001b[0m\u001b[1;33m.\u001b[0m\u001b[0mfit_transform\u001b[0m\u001b[1;33m(\u001b[0m\u001b[0mX\u001b[0m\u001b[1;33m)\u001b[0m\u001b[1;33m\u001b[0m\u001b[1;33m\u001b[0m\u001b[0m\n\u001b[0m",
      "\u001b[1;32m~\\anaconda3\\lib\\site-packages\\sklearn\\base.py\u001b[0m in \u001b[0;36mfit_transform\u001b[1;34m(self, X, y, **fit_params)\u001b[0m\n\u001b[0;32m    697\u001b[0m         \u001b[1;32mif\u001b[0m \u001b[0my\u001b[0m \u001b[1;32mis\u001b[0m \u001b[1;32mNone\u001b[0m\u001b[1;33m:\u001b[0m\u001b[1;33m\u001b[0m\u001b[1;33m\u001b[0m\u001b[0m\n\u001b[0;32m    698\u001b[0m             \u001b[1;31m# fit method of arity 1 (unsupervised transformation)\u001b[0m\u001b[1;33m\u001b[0m\u001b[1;33m\u001b[0m\u001b[1;33m\u001b[0m\u001b[0m\n\u001b[1;32m--> 699\u001b[1;33m             \u001b[1;32mreturn\u001b[0m \u001b[0mself\u001b[0m\u001b[1;33m.\u001b[0m\u001b[0mfit\u001b[0m\u001b[1;33m(\u001b[0m\u001b[0mX\u001b[0m\u001b[1;33m,\u001b[0m \u001b[1;33m**\u001b[0m\u001b[0mfit_params\u001b[0m\u001b[1;33m)\u001b[0m\u001b[1;33m.\u001b[0m\u001b[0mtransform\u001b[0m\u001b[1;33m(\u001b[0m\u001b[0mX\u001b[0m\u001b[1;33m)\u001b[0m\u001b[1;33m\u001b[0m\u001b[1;33m\u001b[0m\u001b[0m\n\u001b[0m\u001b[0;32m    700\u001b[0m         \u001b[1;32melse\u001b[0m\u001b[1;33m:\u001b[0m\u001b[1;33m\u001b[0m\u001b[1;33m\u001b[0m\u001b[0m\n\u001b[0;32m    701\u001b[0m             \u001b[1;31m# fit method of arity 2 (supervised transformation)\u001b[0m\u001b[1;33m\u001b[0m\u001b[1;33m\u001b[0m\u001b[1;33m\u001b[0m\u001b[0m\n",
      "\u001b[1;32m~\\anaconda3\\lib\\site-packages\\sklearn\\preprocessing\\_data.py\u001b[0m in \u001b[0;36mfit\u001b[1;34m(self, X, y)\u001b[0m\n\u001b[0;32m   1702\u001b[0m             \u001b[0mFitted\u001b[0m \u001b[0mtransformer\u001b[0m\u001b[1;33m.\u001b[0m\u001b[1;33m\u001b[0m\u001b[1;33m\u001b[0m\u001b[0m\n\u001b[0;32m   1703\u001b[0m         \"\"\"\n\u001b[1;32m-> 1704\u001b[1;33m         n_samples, n_features = self._validate_data(\n\u001b[0m\u001b[0;32m   1705\u001b[0m             X, accept_sparse=True).shape\n\u001b[0;32m   1706\u001b[0m         combinations = self._combinations(n_features, self.degree,\n",
      "\u001b[1;32m~\\anaconda3\\lib\\site-packages\\sklearn\\base.py\u001b[0m in \u001b[0;36m_validate_data\u001b[1;34m(self, X, y, reset, validate_separately, **check_params)\u001b[0m\n\u001b[0;32m    419\u001b[0m             \u001b[0mout\u001b[0m \u001b[1;33m=\u001b[0m \u001b[0mX\u001b[0m\u001b[1;33m\u001b[0m\u001b[1;33m\u001b[0m\u001b[0m\n\u001b[0;32m    420\u001b[0m         \u001b[1;32melif\u001b[0m \u001b[0misinstance\u001b[0m\u001b[1;33m(\u001b[0m\u001b[0my\u001b[0m\u001b[1;33m,\u001b[0m \u001b[0mstr\u001b[0m\u001b[1;33m)\u001b[0m \u001b[1;32mand\u001b[0m \u001b[0my\u001b[0m \u001b[1;33m==\u001b[0m \u001b[1;34m'no_validation'\u001b[0m\u001b[1;33m:\u001b[0m\u001b[1;33m\u001b[0m\u001b[1;33m\u001b[0m\u001b[0m\n\u001b[1;32m--> 421\u001b[1;33m             \u001b[0mX\u001b[0m \u001b[1;33m=\u001b[0m \u001b[0mcheck_array\u001b[0m\u001b[1;33m(\u001b[0m\u001b[0mX\u001b[0m\u001b[1;33m,\u001b[0m \u001b[1;33m**\u001b[0m\u001b[0mcheck_params\u001b[0m\u001b[1;33m)\u001b[0m\u001b[1;33m\u001b[0m\u001b[1;33m\u001b[0m\u001b[0m\n\u001b[0m\u001b[0;32m    422\u001b[0m             \u001b[0mout\u001b[0m \u001b[1;33m=\u001b[0m \u001b[0mX\u001b[0m\u001b[1;33m\u001b[0m\u001b[1;33m\u001b[0m\u001b[0m\n\u001b[0;32m    423\u001b[0m         \u001b[1;32melse\u001b[0m\u001b[1;33m:\u001b[0m\u001b[1;33m\u001b[0m\u001b[1;33m\u001b[0m\u001b[0m\n",
      "\u001b[1;32m~\\anaconda3\\lib\\site-packages\\sklearn\\utils\\validation.py\u001b[0m in \u001b[0;36minner_f\u001b[1;34m(*args, **kwargs)\u001b[0m\n\u001b[0;32m     61\u001b[0m             \u001b[0mextra_args\u001b[0m \u001b[1;33m=\u001b[0m \u001b[0mlen\u001b[0m\u001b[1;33m(\u001b[0m\u001b[0margs\u001b[0m\u001b[1;33m)\u001b[0m \u001b[1;33m-\u001b[0m \u001b[0mlen\u001b[0m\u001b[1;33m(\u001b[0m\u001b[0mall_args\u001b[0m\u001b[1;33m)\u001b[0m\u001b[1;33m\u001b[0m\u001b[1;33m\u001b[0m\u001b[0m\n\u001b[0;32m     62\u001b[0m             \u001b[1;32mif\u001b[0m \u001b[0mextra_args\u001b[0m \u001b[1;33m<=\u001b[0m \u001b[1;36m0\u001b[0m\u001b[1;33m:\u001b[0m\u001b[1;33m\u001b[0m\u001b[1;33m\u001b[0m\u001b[0m\n\u001b[1;32m---> 63\u001b[1;33m                 \u001b[1;32mreturn\u001b[0m \u001b[0mf\u001b[0m\u001b[1;33m(\u001b[0m\u001b[1;33m*\u001b[0m\u001b[0margs\u001b[0m\u001b[1;33m,\u001b[0m \u001b[1;33m**\u001b[0m\u001b[0mkwargs\u001b[0m\u001b[1;33m)\u001b[0m\u001b[1;33m\u001b[0m\u001b[1;33m\u001b[0m\u001b[0m\n\u001b[0m\u001b[0;32m     64\u001b[0m \u001b[1;33m\u001b[0m\u001b[0m\n\u001b[0;32m     65\u001b[0m             \u001b[1;31m# extra_args > 0\u001b[0m\u001b[1;33m\u001b[0m\u001b[1;33m\u001b[0m\u001b[1;33m\u001b[0m\u001b[0m\n",
      "\u001b[1;32m~\\anaconda3\\lib\\site-packages\\sklearn\\utils\\validation.py\u001b[0m in \u001b[0;36mcheck_array\u001b[1;34m(array, accept_sparse, accept_large_sparse, dtype, order, copy, force_all_finite, ensure_2d, allow_nd, ensure_min_samples, ensure_min_features, estimator)\u001b[0m\n\u001b[0;32m    614\u001b[0m                     \u001b[0marray\u001b[0m \u001b[1;33m=\u001b[0m \u001b[0marray\u001b[0m\u001b[1;33m.\u001b[0m\u001b[0mastype\u001b[0m\u001b[1;33m(\u001b[0m\u001b[0mdtype\u001b[0m\u001b[1;33m,\u001b[0m \u001b[0mcasting\u001b[0m\u001b[1;33m=\u001b[0m\u001b[1;34m\"unsafe\"\u001b[0m\u001b[1;33m,\u001b[0m \u001b[0mcopy\u001b[0m\u001b[1;33m=\u001b[0m\u001b[1;32mFalse\u001b[0m\u001b[1;33m)\u001b[0m\u001b[1;33m\u001b[0m\u001b[1;33m\u001b[0m\u001b[0m\n\u001b[0;32m    615\u001b[0m                 \u001b[1;32melse\u001b[0m\u001b[1;33m:\u001b[0m\u001b[1;33m\u001b[0m\u001b[1;33m\u001b[0m\u001b[0m\n\u001b[1;32m--> 616\u001b[1;33m                     \u001b[0marray\u001b[0m \u001b[1;33m=\u001b[0m \u001b[0mnp\u001b[0m\u001b[1;33m.\u001b[0m\u001b[0masarray\u001b[0m\u001b[1;33m(\u001b[0m\u001b[0marray\u001b[0m\u001b[1;33m,\u001b[0m \u001b[0morder\u001b[0m\u001b[1;33m=\u001b[0m\u001b[0morder\u001b[0m\u001b[1;33m,\u001b[0m \u001b[0mdtype\u001b[0m\u001b[1;33m=\u001b[0m\u001b[0mdtype\u001b[0m\u001b[1;33m)\u001b[0m\u001b[1;33m\u001b[0m\u001b[1;33m\u001b[0m\u001b[0m\n\u001b[0m\u001b[0;32m    617\u001b[0m             \u001b[1;32mexcept\u001b[0m \u001b[0mComplexWarning\u001b[0m \u001b[1;32mas\u001b[0m \u001b[0mcomplex_warning\u001b[0m\u001b[1;33m:\u001b[0m\u001b[1;33m\u001b[0m\u001b[1;33m\u001b[0m\u001b[0m\n\u001b[0;32m    618\u001b[0m                 raise ValueError(\"Complex data not supported\\n\"\n",
      "\u001b[1;32m~\\anaconda3\\lib\\site-packages\\numpy\\core\\_asarray.py\u001b[0m in \u001b[0;36masarray\u001b[1;34m(a, dtype, order, like)\u001b[0m\n\u001b[0;32m    100\u001b[0m         \u001b[1;32mreturn\u001b[0m \u001b[0m_asarray_with_like\u001b[0m\u001b[1;33m(\u001b[0m\u001b[0ma\u001b[0m\u001b[1;33m,\u001b[0m \u001b[0mdtype\u001b[0m\u001b[1;33m=\u001b[0m\u001b[0mdtype\u001b[0m\u001b[1;33m,\u001b[0m \u001b[0morder\u001b[0m\u001b[1;33m=\u001b[0m\u001b[0morder\u001b[0m\u001b[1;33m,\u001b[0m \u001b[0mlike\u001b[0m\u001b[1;33m=\u001b[0m\u001b[0mlike\u001b[0m\u001b[1;33m)\u001b[0m\u001b[1;33m\u001b[0m\u001b[1;33m\u001b[0m\u001b[0m\n\u001b[0;32m    101\u001b[0m \u001b[1;33m\u001b[0m\u001b[0m\n\u001b[1;32m--> 102\u001b[1;33m     \u001b[1;32mreturn\u001b[0m \u001b[0marray\u001b[0m\u001b[1;33m(\u001b[0m\u001b[0ma\u001b[0m\u001b[1;33m,\u001b[0m \u001b[0mdtype\u001b[0m\u001b[1;33m,\u001b[0m \u001b[0mcopy\u001b[0m\u001b[1;33m=\u001b[0m\u001b[1;32mFalse\u001b[0m\u001b[1;33m,\u001b[0m \u001b[0morder\u001b[0m\u001b[1;33m=\u001b[0m\u001b[0morder\u001b[0m\u001b[1;33m)\u001b[0m\u001b[1;33m\u001b[0m\u001b[1;33m\u001b[0m\u001b[0m\n\u001b[0m\u001b[0;32m    103\u001b[0m \u001b[1;33m\u001b[0m\u001b[0m\n\u001b[0;32m    104\u001b[0m \u001b[1;33m\u001b[0m\u001b[0m\n",
      "\u001b[1;31mValueError\u001b[0m: could not convert string to float: 'Total intl charge'"
     ]
    }
   ],
   "source": [
    "poly = PolynomialFeatures(degree=7)\n",
    "X_poly = poly.fit_transform(X)"
   ]
  },
  {
   "cell_type": "code",
   "execution_count": null,
   "metadata": {},
   "outputs": [],
   "source": [
    "X_poly.shape"
   ]
  },
  {
   "cell_type": "markdown",
   "metadata": {},
   "source": [
    "Навчимо логістичну регресію з параметром регуляризації $C = 10^{-2}$. Подамо розділяючу границю. Також перевіримо частку правильних відповідей класифікатора за навчальною вибіркою. Бачимо, що регуляризація виявилася занадто сильною, і модель \"недонавчилась\"."
   ]
  },
  {
   "cell_type": "code",
   "execution_count": null,
   "metadata": {},
   "outputs": [],
   "source": [
    "C = 1e-2\n",
    "logit = LogisticRegression(C=C, n_jobs=-1, random_state=17)\n",
    "logit.fit(X_poly, y)\n",
    "\n",
    "plot_boundary(logit, X, y, grid_step=.01, poly_featurizer=poly)\n",
    "\n",
    "plt.scatter(X[y == 1, 0], X[y == 1, 1], c='green', label='Released')\n",
    "plt.scatter(X[y == 0, 0], X[y == 0, 1], c='red', label='Defective')\n",
    "plt.xlabel(\"Test 1\")\n",
    "plt.ylabel(\"Test 2\")\n",
    "plt.title('2 microchip tests. Логит с C=0.01')\n",
    "plt.legend();\n",
    "\n",
    "print(\"Частка правильних відповідей класифікатора за навчальною вибіркою:\", \n",
    "      round(logit.score(X_poly, y), 3))"
   ]
  },
  {
   "cell_type": "markdown",
   "metadata": {},
   "source": [
    "Збільшимо $C$ до 1. У такий спосіб ми *послаблюємо* регуляризацію. Тепер у рішенні значення ваг логістичної регресії можуть виявитися більшими (за модулем), ніж в попередньому випадку."
   ]
  },
  {
   "cell_type": "code",
   "execution_count": null,
   "metadata": {},
   "outputs": [],
   "source": [
    "C = 1\n",
    "logit = LogisticRegression(C=C, n_jobs=-1, random_state=17)\n",
    "logit.fit(X_poly, y)\n",
    "\n",
    "plot_boundary(logit, X, y, grid_step=.005, poly_featurizer=poly)\n",
    "\n",
    "plt.scatter(X[y == 1, 0], X[y == 1, 1], c='green', label='Released')\n",
    "plt.scatter(X[y == 0, 0], X[y == 0, 1], c='red', label='Defective')\n",
    "plt.xlabel(\"Test 1\")\n",
    "plt.ylabel(\"Test 2\")\n",
    "plt.title('2 microchip tests. Логит с C=1')\n",
    "plt.legend();\n",
    "\n",
    "print(\"Частка правильних відповідей класифікатора за навчальною вибіркою:\", \n",
    "      round(logit.score(X_poly, y), 3))"
   ]
  },
  {
   "cell_type": "markdown",
   "metadata": {},
   "source": [
    "Ще збільшимо $C$ – до 10 тисяч. Тепер регуляризації явно недостатньо, і ми спостерігаємо перенавчання. Можнемо помітити, що в попередньому випадку (за $C$ = 1 і \"гладкою\" границею) частка правильних відповідей моделі за навчальною вибіркою не набагато нижча, ніж в третьому випадку, зате за новою вибіркою, можемо припустити, 2 модель спрацює значно краще."
   ]
  },
  {
   "cell_type": "code",
   "execution_count": null,
   "metadata": {},
   "outputs": [],
   "source": [
    "C = 1e4\n",
    "logit = LogisticRegression(C=C, n_jobs=-1, random_state=17)\n",
    "logit.fit(X_poly, y)\n",
    "\n",
    "plot_boundary(logit, X, y, grid_step=.005, poly_featurizer=poly)\n",
    "\n",
    "plt.scatter(X[y == 1, 0], X[y == 1, 1], c='green', label='Released')\n",
    "plt.scatter(X[y == 0, 0], X[y == 0, 1], c='red', label='Defective')\n",
    "plt.xlabel(\"Test 1\")\n",
    "plt.ylabel(\"Test 2\")\n",
    "plt.title('2 microchip tests. Логит с C=10k')\n",
    "plt.legend();\n",
    "\n",
    "print(\"Частка правильних відповідей класифікатора за навчальною вибіркою:\", \n",
    "      round(logit.score(X_poly, y), 3))"
   ]
  },
  {
   "cell_type": "markdown",
   "metadata": {},
   "source": [
    "Щоб обговорити результати, перепишемо формулу для функціоналу, що оптимізується в логістичній регресії, в такому вигляді:\n",
    "\n",
    "$$\\large  J(X,y,w) = \\mathcal{L} + \\frac{1}{C}||w||^2,$$\n",
    "\n",
    "де\n",
    " - $\\mathcal{L}$ – логістична функція втрат, що просумована за всією вибіркою;\n",
    " - $C$ – обернений коефіцієнт регуляризації (тієї самої $C$ в `sklearn`-реалізації `LogisticRegression`)"
   ]
  },
  {
   "cell_type": "markdown",
   "metadata": {},
   "source": [
    "**Проміжні висновки**:\n",
    " \n",
    " - чим більше значення параметру $C$, тим складніші залежності в даних може відновлювати модель (інтуїтивно $C$ відповідає \"складності\" моделі ([model capacity](https://en.wikipedia.org/wiki/Capacity_theory#Three_basic_components_of_the_capacity_model)));\n",
    " - якщо регуляризація занадто сильна (малі значення $C$), то розв'язком задачі мінімізації логістичної функції втрат може виявитися те, коли багато ваг обнулилися або стали занадто малим;  говорять також, що модель недостатньо \"штрафується\" за помилки (тобто у функціоналі $J$ \"переважує\" сума квадратів ваг, а помилка $\\mathcal{L}$ може бути відносно великою); в такому випадку модель виявиться *недонавченою* (1 випадок);\n",
    " - навпаки, якщо регуляризація занадто слабка (великі значення $C$), то розв'язком задачі оптимізації може стати вектор $w$ з великими за модулем компонентами; в такому випадку більший внесок в оптимізуючий функціонал $J$ має $\\mathcal{L}$ і, простіше кажучи, модель занадто \"боїться\" помилитися на об'єктах навчальної вибірки, тому отримаємо *перенавчання* (3 випадок);\n",
    " - то, яке значення $C$ вибрати, сама логістична регресія \"не зрозуміє\" (або ще кажуть \"не вивчить\"), тобто це не може бути визначено розв'язком оптимізаційної задачі, якою є логістична регресія (на відміну від ваг $w$ ); так само точно, дерево рішень не може \"саме зрозуміти\", яке обмеження на глибину вибрати (за один процес навчання); тому $C$ – це *гіперпараметр* моделі, який налаштовується під час крос-валідації, аналогічно до *max_depth* для дерева."
   ]
  },
  {
   "cell_type": "markdown",
   "metadata": {},
   "source": [
    "<a class=\"anchor\" id=\"4.3.2\"></a>"
   ]
  },
  {
   "cell_type": "markdown",
   "metadata": {},
   "source": [
    "### <span style=\"color:blue; font-size:1.2em;\">4.3.2. Налаштування параметра регуляризації</span>\n",
    "\n",
    "[Повернутися до змісту](#4-2)"
   ]
  },
  {
   "cell_type": "markdown",
   "metadata": {},
   "source": [
    "Тепер знайдемо оптимальне (в даному прикладі) значення параметра регуляризації $C$. Ми можемо це зробити допомогою `LogisticRegressionCV` – перебору параметрів по сітці з наступною крос-валідацією. Цей клас створений спеціально для логістичної регресії (для неї відомі ефективні алгоритми перебору параметрів), для довільної моделі ми б використовували `GridSearchCV`,` RandomizedSearchCV` або, наприклад, спеціальні алгоритми оптимізації гіперпараметров, що реалізовані в [hyperopt](http://hyperopt.github.io/hyperopt/)."
   ]
  },
  {
   "cell_type": "code",
   "execution_count": 15,
   "metadata": {},
   "outputs": [
    {
     "ename": "NameError",
     "evalue": "name 'X_poly' is not defined",
     "output_type": "error",
     "traceback": [
      "\u001b[1;31m---------------------------------------------------------------------------\u001b[0m",
      "\u001b[1;31mNameError\u001b[0m                                 Traceback (most recent call last)",
      "\u001b[1;32m<ipython-input-15-0da66ddbd619>\u001b[0m in \u001b[0;36m<module>\u001b[1;34m\u001b[0m\n\u001b[0;32m      4\u001b[0m \u001b[1;33m\u001b[0m\u001b[0m\n\u001b[0;32m      5\u001b[0m \u001b[0mlogit_searcher\u001b[0m \u001b[1;33m=\u001b[0m \u001b[0mLogisticRegressionCV\u001b[0m\u001b[1;33m(\u001b[0m\u001b[0mCs\u001b[0m\u001b[1;33m=\u001b[0m\u001b[0mc_values\u001b[0m\u001b[1;33m,\u001b[0m \u001b[0mcv\u001b[0m\u001b[1;33m=\u001b[0m\u001b[0mskf\u001b[0m\u001b[1;33m,\u001b[0m \u001b[0mverbose\u001b[0m\u001b[1;33m=\u001b[0m\u001b[1;36m1\u001b[0m\u001b[1;33m,\u001b[0m \u001b[0mn_jobs\u001b[0m\u001b[1;33m=\u001b[0m\u001b[1;33m-\u001b[0m\u001b[1;36m1\u001b[0m\u001b[1;33m)\u001b[0m\u001b[1;33m\u001b[0m\u001b[1;33m\u001b[0m\u001b[0m\n\u001b[1;32m----> 6\u001b[1;33m \u001b[0mlogit_searcher\u001b[0m\u001b[1;33m.\u001b[0m\u001b[0mfit\u001b[0m\u001b[1;33m(\u001b[0m\u001b[0mX_poly\u001b[0m\u001b[1;33m,\u001b[0m \u001b[0my\u001b[0m\u001b[1;33m)\u001b[0m\u001b[1;33m\u001b[0m\u001b[1;33m\u001b[0m\u001b[0m\n\u001b[0m",
      "\u001b[1;31mNameError\u001b[0m: name 'X_poly' is not defined"
     ]
    }
   ],
   "source": [
    "skf = StratifiedKFold(n_splits=5, shuffle=True, random_state=17)\n",
    "\n",
    "c_values = np.logspace(-2, 3, 500)\n",
    "\n",
    "logit_searcher = LogisticRegressionCV(Cs=c_values, cv=skf, verbose=1, n_jobs=-1)\n",
    "logit_searcher.fit(X_poly, y)"
   ]
  },
  {
   "cell_type": "code",
   "execution_count": null,
   "metadata": {},
   "outputs": [],
   "source": [
    "logit_searcher.C_"
   ]
  },
  {
   "cell_type": "markdown",
   "metadata": {},
   "source": [
    "Подивимося, як якість моделі (частка правильних відповідей за навчальною та валідаційною вибірками) змінюється у разі зміни гіперпараметра $C$."
   ]
  },
  {
   "cell_type": "code",
   "execution_count": null,
   "metadata": {},
   "outputs": [],
   "source": [
    "plt.plot(c_values, np.mean(logit_searcher.scores_[1], axis=0))\n",
    "plt.xlabel('C')\n",
    "plt.ylabel('Mean CV-accuracy');"
   ]
  },
  {
   "cell_type": "markdown",
   "metadata": {},
   "source": [
    "Виділимо ділянку з \"кращими\" значеннями C."
   ]
  },
  {
   "cell_type": "code",
   "execution_count": null,
   "metadata": {},
   "outputs": [],
   "source": [
    "plt.plot(c_values, np.mean(logit_searcher.scores_[1], axis=0))\n",
    "plt.xlabel('C')\n",
    "plt.ylabel('Mean CV-accuracy');\n",
    "plt.xlim((0,10));"
   ]
  },
  {
   "cell_type": "markdown",
   "metadata": {},
   "source": [
    "Такі криві називаються *валідаційними*, і в `sklearn` для їхньої побудови є спеціальні методи."
   ]
  },
  {
   "cell_type": "markdown",
   "metadata": {},
   "source": [
    "<a class=\"anchor\" id=\"4.4\"></a>"
   ]
  },
  {
   "cell_type": "markdown",
   "metadata": {},
   "source": [
    "## <span style=\"color:blue; font-size:1.2em;\">4.4. Де логістична регресія працює добре, а де не дуже</span>\n",
    "\n",
    "[Повернутися до змісту](#4-2)"
   ]
  },
  {
   "cell_type": "markdown",
   "metadata": {},
   "source": [
    "<a class=\"anchor\" id=\"4.4.1\"></a>"
   ]
  },
  {
   "cell_type": "markdown",
   "metadata": {},
   "source": [
    "### <span style=\"color:blue; font-size:1.2em;\">4.4.1. Аналіз відгуків IMDB до фільмів</span>\n",
    "\n",
    "[Повернутися до змісту](#4-2)"
   ]
  },
  {
   "cell_type": "markdown",
   "metadata": {},
   "source": [
    "Будемо розв'язувати задачу бінарної класифікації відгуків IMDB до фільмів. Є навчальна вибірка з розміченими відгуками, щодо 12500 відгуків відомо, що вони хороші, ще про 12500 – що вони погані. Тут вже не так просто відразу розпочати з МН, тому що готової матриці чинників $X$ немає – її треба підготувати. Будемо використовувати найпростіший підхід – мішок слів (\"Bag of words\"). За такого підходу ознаками відгуку будуть індикатори наявності в ньому кожного слова з усього корпусу, де корпус – це множина всіх відгуків. Ідея ілюструється рисунком:"
   ]
  },
  {
   "cell_type": "markdown",
   "metadata": {},
   "source": [
    "![img](https://raw.githubusercontent.com/radiukpavlo/Intelligent-data-analysis/main/03_img/4_2_10_bag_of_words.png)<br>"
   ]
  },
  {
   "cell_type": "code",
   "execution_count": 17,
   "metadata": {},
   "outputs": [],
   "source": [
    "from sklearn.datasets import load_files\n",
    "from sklearn.feature_extraction.text import CountVectorizer, TfidfTransformer, TfidfVectorizer\n",
    "from sklearn.linear_model import LogisticRegression\n",
    "from sklearn.svm import LinearSVC"
   ]
  },
  {
   "cell_type": "markdown",
   "metadata": {},
   "source": [
    "Завантажимо дані [звідси](http://ai.stanford.edu/~amaas/data/sentiment/aclImdb_v1.tar.gz) (це пряме покликання на завантаження, а [тут](http://ai.stanford.edu/~amaas/data/sentiment/) опис набору даних). У навчальній і тестовій вибірках по 12500 тисяч хороших і поганих відгуків до фільмів."
   ]
  },
  {
   "cell_type": "code",
   "execution_count": 19,
   "metadata": {},
   "outputs": [
    {
     "ename": "FileNotFoundError",
     "evalue": "[WinError 3] The system cannot find the path specified: 'aclImdb/train'",
     "output_type": "error",
     "traceback": [
      "\u001b[1;31m---------------------------------------------------------------------------\u001b[0m",
      "\u001b[1;31mFileNotFoundError\u001b[0m                         Traceback (most recent call last)",
      "\u001b[1;32m<ipython-input-19-51637a5cd2e3>\u001b[0m in \u001b[0;36m<module>\u001b[1;34m\u001b[0m\n\u001b[1;32m----> 1\u001b[1;33m \u001b[0mreviews_train\u001b[0m \u001b[1;33m=\u001b[0m \u001b[0mload_files\u001b[0m\u001b[1;33m(\u001b[0m\u001b[1;34m\"aclImdb/train\"\u001b[0m\u001b[1;33m)\u001b[0m\u001b[1;33m\u001b[0m\u001b[1;33m\u001b[0m\u001b[0m\n\u001b[0m\u001b[0;32m      2\u001b[0m \u001b[0mtext_train\u001b[0m\u001b[1;33m,\u001b[0m \u001b[0my_train\u001b[0m \u001b[1;33m=\u001b[0m \u001b[0mreviews_train\u001b[0m\u001b[1;33m.\u001b[0m\u001b[0mdata\u001b[0m\u001b[1;33m,\u001b[0m \u001b[0mreviews_train\u001b[0m\u001b[1;33m.\u001b[0m\u001b[0mtarget\u001b[0m\u001b[1;33m\u001b[0m\u001b[1;33m\u001b[0m\u001b[0m\n\u001b[0;32m      3\u001b[0m \u001b[1;33m\u001b[0m\u001b[0m\n\u001b[0;32m      4\u001b[0m \u001b[0mprint\u001b[0m\u001b[1;33m(\u001b[0m\u001b[1;34m\"Number of documents in training data: %d\"\u001b[0m \u001b[1;33m%\u001b[0m \u001b[0mlen\u001b[0m\u001b[1;33m(\u001b[0m\u001b[0mtext_train\u001b[0m\u001b[1;33m)\u001b[0m\u001b[1;33m)\u001b[0m\u001b[1;33m\u001b[0m\u001b[1;33m\u001b[0m\u001b[0m\n\u001b[0;32m      5\u001b[0m \u001b[0mprint\u001b[0m\u001b[1;33m(\u001b[0m\u001b[0mnp\u001b[0m\u001b[1;33m.\u001b[0m\u001b[0mbincount\u001b[0m\u001b[1;33m(\u001b[0m\u001b[0my_train\u001b[0m\u001b[1;33m)\u001b[0m\u001b[1;33m)\u001b[0m\u001b[1;33m\u001b[0m\u001b[1;33m\u001b[0m\u001b[0m\n",
      "\u001b[1;32m~\\anaconda3\\lib\\site-packages\\sklearn\\utils\\validation.py\u001b[0m in \u001b[0;36minner_f\u001b[1;34m(*args, **kwargs)\u001b[0m\n\u001b[0;32m     61\u001b[0m             \u001b[0mextra_args\u001b[0m \u001b[1;33m=\u001b[0m \u001b[0mlen\u001b[0m\u001b[1;33m(\u001b[0m\u001b[0margs\u001b[0m\u001b[1;33m)\u001b[0m \u001b[1;33m-\u001b[0m \u001b[0mlen\u001b[0m\u001b[1;33m(\u001b[0m\u001b[0mall_args\u001b[0m\u001b[1;33m)\u001b[0m\u001b[1;33m\u001b[0m\u001b[1;33m\u001b[0m\u001b[0m\n\u001b[0;32m     62\u001b[0m             \u001b[1;32mif\u001b[0m \u001b[0mextra_args\u001b[0m \u001b[1;33m<=\u001b[0m \u001b[1;36m0\u001b[0m\u001b[1;33m:\u001b[0m\u001b[1;33m\u001b[0m\u001b[1;33m\u001b[0m\u001b[0m\n\u001b[1;32m---> 63\u001b[1;33m                 \u001b[1;32mreturn\u001b[0m \u001b[0mf\u001b[0m\u001b[1;33m(\u001b[0m\u001b[1;33m*\u001b[0m\u001b[0margs\u001b[0m\u001b[1;33m,\u001b[0m \u001b[1;33m**\u001b[0m\u001b[0mkwargs\u001b[0m\u001b[1;33m)\u001b[0m\u001b[1;33m\u001b[0m\u001b[1;33m\u001b[0m\u001b[0m\n\u001b[0m\u001b[0;32m     64\u001b[0m \u001b[1;33m\u001b[0m\u001b[0m\n\u001b[0;32m     65\u001b[0m             \u001b[1;31m# extra_args > 0\u001b[0m\u001b[1;33m\u001b[0m\u001b[1;33m\u001b[0m\u001b[1;33m\u001b[0m\u001b[0m\n",
      "\u001b[1;32m~\\anaconda3\\lib\\site-packages\\sklearn\\datasets\\_base.py\u001b[0m in \u001b[0;36mload_files\u001b[1;34m(container_path, description, categories, load_content, shuffle, encoding, decode_error, random_state)\u001b[0m\n\u001b[0;32m    192\u001b[0m     \u001b[0mfilenames\u001b[0m \u001b[1;33m=\u001b[0m \u001b[1;33m[\u001b[0m\u001b[1;33m]\u001b[0m\u001b[1;33m\u001b[0m\u001b[1;33m\u001b[0m\u001b[0m\n\u001b[0;32m    193\u001b[0m \u001b[1;33m\u001b[0m\u001b[0m\n\u001b[1;32m--> 194\u001b[1;33m     folders = [f for f in sorted(listdir(container_path))\n\u001b[0m\u001b[0;32m    195\u001b[0m                if isdir(join(container_path, f))]\n\u001b[0;32m    196\u001b[0m \u001b[1;33m\u001b[0m\u001b[0m\n",
      "\u001b[1;31mFileNotFoundError\u001b[0m: [WinError 3] The system cannot find the path specified: 'aclImdb/train'"
     ]
    }
   ],
   "source": [
    "reviews_train = load_files(\"aclImdb/train\")\n",
    "text_train, y_train = reviews_train.data, reviews_train.target\n",
    "\n",
    "print(\"Number of documents in training data: %d\" % len(text_train))\n",
    "print(np.bincount(y_train))"
   ]
  },
  {
   "cell_type": "code",
   "execution_count": null,
   "metadata": {},
   "outputs": [],
   "source": [
    "reviews_test = load_files(\".../aclImdb/test\")\n",
    "text_test, y_test = reviews_test.data, reviews_test.target\n",
    "\n",
    "print(\"Number of documents in test data: %d\" % len(text_test))\n",
    "print(np.bincount(y_test))"
   ]
  },
  {
   "cell_type": "markdown",
   "metadata": {},
   "source": [
    "Приклад відгуку та відповідної мітки:"
   ]
  },
  {
   "cell_type": "code",
   "execution_count": null,
   "metadata": {},
   "outputs": [],
   "source": [
    "print(text_train[1])"
   ]
  },
  {
   "cell_type": "code",
   "execution_count": null,
   "metadata": {},
   "outputs": [],
   "source": [
    "y_train[1] # поганий відгук"
   ]
  },
  {
   "cell_type": "code",
   "execution_count": null,
   "metadata": {},
   "outputs": [],
   "source": [
    "text_train[2]"
   ]
  },
  {
   "cell_type": "code",
   "execution_count": null,
   "metadata": {},
   "outputs": [],
   "source": [
    "y_train[2] # хороший відгук"
   ]
  },
  {
   "cell_type": "markdown",
   "metadata": {},
   "source": [
    "<a class=\"anchor\" id=\"4.4.2\"></a>"
   ]
  },
  {
   "cell_type": "markdown",
   "metadata": {},
   "source": [
    "### <span style=\"color:blue; font-size:1.2em;\">4.4.2. Простий підрахунок слів</span>\n",
    "\n",
    "[Повернутися до змісту](#4-2)"
   ]
  },
  {
   "cell_type": "markdown",
   "metadata": {},
   "source": [
    "Складемо словник усіх слів за допомогою CountVectorizer."
   ]
  },
  {
   "cell_type": "code",
   "execution_count": null,
   "metadata": {},
   "outputs": [],
   "source": [
    "cv = CountVectorizer()\n",
    "cv.fit(text_train)\n",
    "\n",
    "len(cv.vocabulary_)"
   ]
  },
  {
   "cell_type": "markdown",
   "metadata": {},
   "source": [
    "Подивимося на приклади отриманих \"слів\" (краще їх називати токенами). Бачимо, що багато важливих етапів оброблення тексту ми тут пропустили."
   ]
  },
  {
   "cell_type": "code",
   "execution_count": null,
   "metadata": {
    "scrolled": true
   },
   "outputs": [],
   "source": [
    "print(cv.get_feature_names()[:50])\n",
    "print(cv.get_feature_names()[50000:50050])"
   ]
  },
  {
   "cell_type": "markdown",
   "metadata": {},
   "source": [
    "Закодуємо пропозиції з текстів навчальної вибірки індексами вхідних слів. Використовуємо розріджений формат:"
   ]
  },
  {
   "cell_type": "code",
   "execution_count": null,
   "metadata": {},
   "outputs": [],
   "source": [
    "X_train = cv.transform(text_train)\n",
    "X_train"
   ]
  },
  {
   "cell_type": "markdown",
   "metadata": {},
   "source": [
    "Подивимося, як перетворення подіяло на одну з пропозицій:"
   ]
  },
  {
   "cell_type": "code",
   "execution_count": null,
   "metadata": {},
   "outputs": [],
   "source": [
    "print(text_train[19726])"
   ]
  },
  {
   "cell_type": "code",
   "execution_count": null,
   "metadata": {},
   "outputs": [],
   "source": [
    "X_train[19726].nonzero()[1]"
   ]
  },
  {
   "cell_type": "code",
   "execution_count": null,
   "metadata": {},
   "outputs": [],
   "source": [
    "X_train[19726].nonzero()"
   ]
  },
  {
   "cell_type": "markdown",
   "metadata": {},
   "source": [
    "Перетворимо так само тестову вибірку:"
   ]
  },
  {
   "cell_type": "code",
   "execution_count": null,
   "metadata": {},
   "outputs": [],
   "source": [
    "X_test = cv.transform(text_test)"
   ]
  },
  {
   "cell_type": "markdown",
   "metadata": {},
   "source": [
    "Навчимо логістичну регресію:"
   ]
  },
  {
   "cell_type": "code",
   "execution_count": null,
   "metadata": {},
   "outputs": [],
   "source": [
    "%%time\n",
    "logit = LogisticRegression(n_jobs=-1, random_state=7)\n",
    "logit.fit(X_train, y_train)"
   ]
  },
  {
   "cell_type": "markdown",
   "metadata": {},
   "source": [
    "Подивимося на частки правильних відповідей за навчальною і тестовою вибірками:"
   ]
  },
  {
   "cell_type": "code",
   "execution_count": null,
   "metadata": {},
   "outputs": [],
   "source": [
    "round(logit.score(X_train, y_train), 3), round(logit.score(X_test, y_test), 3),"
   ]
  },
  {
   "cell_type": "markdown",
   "metadata": {},
   "source": [
    "Коефіцієнти моделі можна гарно відобразити:"
   ]
  },
  {
   "cell_type": "code",
   "execution_count": null,
   "metadata": {},
   "outputs": [],
   "source": [
    "def visualize_coefficients(classifier, feature_names, n_top_features=25):\n",
    "    \n",
    "    # отримуємо коефіцієнти з великими абсолютними значеннями\n",
    "    coef = classifier.coef_.ravel()\n",
    "    positive_coefficients = np.argsort(coef)[-n_top_features:]\n",
    "    negative_coefficients = np.argsort(coef)[:n_top_features]\n",
    "    interesting_coefficients = np.hstack([negative_coefficients, positive_coefficients])\n",
    "    \n",
    "    # відобразимо коефіцієнти\n",
    "    plt.figure(figsize=(15, 5))\n",
    "    colors = [\"red\" if c < 0 else \"blue\" for c in coef[interesting_coefficients]]\n",
    "    plt.bar(np.arange(2 * n_top_features), coef[interesting_coefficients], color=colors)\n",
    "    feature_names = np.array(feature_names)\n",
    "    plt.xticks(np.arange(1, 1 + 2 * n_top_features), feature_names[interesting_coefficients], rotation=60, ha=\"right\");"
   ]
  },
  {
   "cell_type": "code",
   "execution_count": null,
   "metadata": {},
   "outputs": [],
   "source": [
    "def plot_grid_scores(grid, param_name):\n",
    "    plt.plot(grid.param_grid[param_name], grid.cv_results_['mean_train_score'],\n",
    "        color='green', label='train')\n",
    "    plt.plot(grid.param_grid[param_name], grid.cv_results_['mean_test_score'],\n",
    "        color='red', label='test')\n",
    "    plt.legend();"
   ]
  },
  {
   "cell_type": "code",
   "execution_count": null,
   "metadata": {},
   "outputs": [],
   "source": [
    "visualize_coefficients(logit, cv.get_feature_names())"
   ]
  },
  {
   "cell_type": "markdown",
   "metadata": {},
   "source": [
    "Підберемо коефіцієнт регуляризації для логістичної регресії. Використовуємо `sklearn.pipeline`, оскільки` CountVectorizer` правильно застосовувати тільки за тими даними, за якими в поточний момент навчається модель (щоб не \"підглядати\" в тестову вибірку і не брати до уваги по ній частоти входження слів). В даному випадку `pipeline` задає послідовність дій: застосувати` CountVectorizer`, потім навчити логістичну регресію."
   ]
  },
  {
   "cell_type": "code",
   "execution_count": null,
   "metadata": {},
   "outputs": [],
   "source": [
    "%%time\n",
    "from sklearn.pipeline import make_pipeline\n",
    "\n",
    "text_pipe_logit = make_pipeline(CountVectorizer(), \n",
    "                                LogisticRegression(n_jobs=-1, random_state=7))\n",
    "\n",
    "text_pipe_logit.fit(text_train, y_train)\n",
    "print(text_pipe_logit.score(text_test, y_test))"
   ]
  },
  {
   "cell_type": "code",
   "execution_count": null,
   "metadata": {},
   "outputs": [],
   "source": [
    "%%time\n",
    "from sklearn.model_selection import GridSearchCV\n",
    "\n",
    "param_grid_logit = {'logisticregression__C': np.logspace(-5, 0, 6)}\n",
    "grid_logit = GridSearchCV(text_pipe_logit, param_grid_logit, cv=3, n_jobs=-1)\n",
    "\n",
    "grid_logit.fit(text_train, y_train)"
   ]
  },
  {
   "cell_type": "markdown",
   "metadata": {},
   "source": [
    "Краще значення C і відповідна якість на крос-валідації:"
   ]
  },
  {
   "cell_type": "code",
   "execution_count": null,
   "metadata": {},
   "outputs": [],
   "source": [
    "grid_logit.best_params_, grid_logit.best_score_"
   ]
  },
  {
   "cell_type": "code",
   "execution_count": null,
   "metadata": {},
   "outputs": [],
   "source": [
    "plot_grid_scores(grid_logit, 'logisticregression__C')"
   ]
  },
  {
   "cell_type": "markdown",
   "metadata": {},
   "source": [
    "За валідаційною вибіркою:"
   ]
  },
  {
   "cell_type": "code",
   "execution_count": null,
   "metadata": {},
   "outputs": [],
   "source": [
    "grid_logit.score(text_test, y_test)"
   ]
  },
  {
   "cell_type": "markdown",
   "metadata": {},
   "source": [
    "Тепер те ж саме, але з випадковим лісом:"
   ]
  },
  {
   "cell_type": "code",
   "execution_count": null,
   "metadata": {},
   "outputs": [],
   "source": [
    "from sklearn.ensemble import RandomForestClassifier\n",
    "\n",
    "forest = RandomForestClassifier(n_estimators=200, n_jobs=-1, random_state=17)\n",
    "\n",
    "%%time\n",
    "forest.fit(X_train, y_train)"
   ]
  },
  {
   "cell_type": "code",
   "execution_count": null,
   "metadata": {},
   "outputs": [],
   "source": [
    "round(forest.score(X_test, y_test), 3)"
   ]
  },
  {
   "cell_type": "markdown",
   "metadata": {},
   "source": [
    "З результатів вище бачимо, що з логістичною регресією ми досягаємо більшої частки правильних відповідей з меншими зусиллями (0.855 < 0.879)."
   ]
  },
  {
   "cell_type": "markdown",
   "metadata": {},
   "source": [
    "<a class=\"anchor\" id=\"4.4.3\"></a>"
   ]
  },
  {
   "cell_type": "markdown",
   "metadata": {},
   "source": [
    "### <span style=\"color:blue; font-size:1.2em;\">4.4.3. XOR-проблема</span>\n",
    "\n",
    "[Повернутися до змісту](#4-2)"
   ]
  },
  {
   "cell_type": "markdown",
   "metadata": {},
   "source": [
    "Тепер розглянемо приклад, де лінійні моделі справляються гірше.\n",
    "\n",
    "Лінійні методи класифікації будують все ж дуже просту розділяючу поверхню – гіперплощину. Найвідоміший іграшковий приклад, в якому класи можна без помилок розділити гіперплощиною (тобто прямою, якщо це 2D), отримав назву \"the XOR problem\". XOR – це \"виключне АБО\", булева функція з такою таблицею істинності:"
   ]
  },
  {
   "cell_type": "markdown",
   "metadata": {},
   "source": [
    "![img](https://raw.githubusercontent.com/radiukpavlo/Intelligent-data-analysis/main/03_img/4_2_11_XOR_table.gif)<br>"
   ]
  },
  {
   "cell_type": "markdown",
   "metadata": {},
   "source": [
    "XOR дав назву простій задачі бінарної класифікації, в якій класи подано множинами точок, що перетинаються і є витягнутими за діагоналями."
   ]
  },
  {
   "cell_type": "code",
   "execution_count": null,
   "metadata": {},
   "outputs": [],
   "source": [
    "# створюємо дані\n",
    "rng = np.random.RandomState(0)\n",
    "X = rng.randn(200, 2)\n",
    "y = np.logical_xor(X[:, 0] > 0, X[:, 1] > 0)"
   ]
  },
  {
   "cell_type": "code",
   "execution_count": null,
   "metadata": {},
   "outputs": [],
   "source": [
    "plt.scatter(X[:, 0], X[:, 1], s=30, c=y, cmap=plt.cm.Paired);"
   ]
  },
  {
   "cell_type": "markdown",
   "metadata": {},
   "source": [
    "Очевидно, не можна провести пряму так, щоб без помилок відокремити один клас від іншого. Тому логістична регресія погано справляється з такою задачею."
   ]
  },
  {
   "cell_type": "code",
   "execution_count": null,
   "metadata": {},
   "outputs": [],
   "source": [
    "def plot_boundary(clf, X, y, plot_title):\n",
    "    \n",
    "    xx, yy = np.meshgrid(np.linspace(-3, 3, 50),\n",
    "                     np.linspace(-3, 3, 50))\n",
    "    clf.fit(X, y)\n",
    "    \n",
    "    # відобразимо функцію рішення для кожної точки на координатній площині\n",
    "    Z = clf.predict_proba(np.vstack((xx.ravel(), yy.ravel())).T)[:, 1]\n",
    "    Z = Z.reshape(xx.shape)\n",
    "\n",
    "    image = plt.imshow(Z, interpolation='nearest',\n",
    "                           extent=(xx.min(), xx.max(), yy.min(), yy.max()),\n",
    "                           aspect='auto', origin='lower', cmap=plt.cm.PuOr_r)\n",
    "    contours = plt.contour(xx, yy, Z, levels=[0], linewidths=2,\n",
    "                               linetypes='--')\n",
    "    plt.scatter(X[:, 0], X[:, 1], s=30, c=y, cmap=plt.cm.Paired)\n",
    "    plt.xticks(())\n",
    "    plt.yticks(())\n",
    "    plt.xlabel(r'$x_1$')\n",
    "    plt.ylabel(r'$x_2$')\n",
    "    plt.axis([-3, 3, -3, 3])\n",
    "    plt.colorbar(image)\n",
    "    plt.title(plot_title, fontsize=12);"
   ]
  },
  {
   "cell_type": "code",
   "execution_count": null,
   "metadata": {},
   "outputs": [],
   "source": [
    "plot_boundary(LogisticRegression(), X, y,\n",
    "              \"Логістична регресія, XOR problem\")"
   ]
  },
  {
   "cell_type": "markdown",
   "metadata": {},
   "source": [
    "А ось якщо на вхід подати поліноміальні ознаки, в даному випадку до степеня 2, то задача розв'язується."
   ]
  },
  {
   "cell_type": "code",
   "execution_count": null,
   "metadata": {},
   "outputs": [],
   "source": [
    "from sklearn.pipeline import Pipeline\n",
    "\n",
    "logit_pipe = Pipeline([('poly', PolynomialFeatures(degree=2)), \n",
    "                       ('logit', LogisticRegression())])"
   ]
  },
  {
   "cell_type": "code",
   "execution_count": null,
   "metadata": {},
   "outputs": [],
   "source": [
    "plot_boundary(logit_pipe, X, y,\n",
    "              \"Логістична регресія + квадратичні ознаки. XOR problem\")"
   ]
  },
  {
   "cell_type": "markdown",
   "metadata": {},
   "source": [
    "Тут логістична регресія все одно будувала гіперплощину, але в 6-вимірному просторі ознак $1, x_1, x_2, x_1^2, x_1x_2$ и $x_2^2$. У проекції на початковий простір ознак $x_1, x_2$ границю вийшла нелінійна.\n",
    "\n",
    "На практиці поліноміальні ознаки дійсно допомагають, але будувати їх явно – обчислювально неефективно. Набагато швидше працює метод опорних векторів з ядровим трюком. За такого підходу в просторі високої розмірності обраховується тільки відстань між об'єктами (що задається функцією-ядром), а явно створювати комбінаторно велику кількість ознак не потрібно. З цим питанням можна детальніше ознайомитися в курсі Євгенія Соколова – [тут](https://github.com/esokolov/ml-course-msu/blob/master/ML16/lecture-notes/Sem10_linear.pdf) (математика вже серйозна)."
   ]
  },
  {
   "cell_type": "markdown",
   "metadata": {},
   "source": [
    "<a class=\"anchor\" id=\"4.5\"></a>"
   ]
  },
  {
   "cell_type": "markdown",
   "metadata": {},
   "source": [
    "## <span style=\"color:blue; font-size:1.2em;\">4.5. Криві валідації й навчання</span>\n",
    "\n",
    "[Повернутися до змісту](#4-2)"
   ]
  },
  {
   "cell_type": "code",
   "execution_count": 26,
   "metadata": {
    "tags": []
   },
   "outputs": [],
   "source": [
    "from sklearn.pipeline import Pipeline\n",
    "from sklearn.preprocessing import StandardScaler\n",
    "from sklearn.linear_model import LogisticRegression, LogisticRegressionCV, SGDClassifier\n",
    "from sklearn.model_selection import validation_curve"
   ]
  },
  {
   "cell_type": "markdown",
   "metadata": {},
   "source": [
    "<a class=\"anchor\" id=\"4.5.1\"></a>"
   ]
  },
  {
   "cell_type": "markdown",
   "metadata": {},
   "source": [
    "### <span style=\"color:blue; font-size:1.2em;\">4.5.1. Як покращити модель?</span>\n",
    "\n",
    "[Повернутися до змісту](#4-2)"
   ]
  },
  {
   "cell_type": "markdown",
   "metadata": {},
   "source": [
    "Ми вже маємо уявлення щодо перевірки моделі, крос-валідації та регуляризації.\n",
    "Тепер розглянемо головне питання:\n",
    "\n",
    "**Якщо якість моделі нас не влаштовує, то що робити?**\n",
    "\n",
    "- Зробити модель складнішою чи, навпаки, спростити?\n",
    "- Додати більше ознак?\n",
    "- Чи потрібно додати більше даних для навчання?\n",
    "\n",
    "Відповіді на ці питання не завжди лежать на поверхні. Зокрема, іноді використання більш складної моделі призведе до погіршення показників. Або додавання спостережень не призведе до відчутних змін. Здатність прийняти правильне рішення й вибрати правильний спосіб поліпшення моделі, власне кажучи, і відрізняє хорошого фахівця від поганого."
   ]
  },
  {
   "cell_type": "markdown",
   "metadata": {},
   "source": [
    "Будемо працювати з уже знайомими даними щодо відтоку клієнтів телеком-оператора:"
   ]
  },
  {
   "cell_type": "code",
   "execution_count": 27,
   "metadata": {},
   "outputs": [],
   "source": [
    "data = pd.read_csv(data_microchip_tests).drop('State', axis=1)\n",
    "\n",
    "data['International plan'] = data['International plan'].map({'Yes': 1, 'No': 0})\n",
    "data['Voice mail plan'] = data['Voice mail plan'].map({'Yes': 1, 'No': 0})\n",
    "\n",
    "y = data['Churn'].astype('int').values\n",
    "X = data.drop('Churn', axis=1).values"
   ]
  },
  {
   "cell_type": "markdown",
   "metadata": {},
   "source": [
    "Тут будемо навчати логістичну регресію за допомогою стохастичного градієнтного спуску. Наразі так швидше. Але в подальшому стохастичному градієнтному спуску буде присвячена окрема тема. "
   ]
  },
  {
   "cell_type": "code",
   "execution_count": 28,
   "metadata": {},
   "outputs": [],
   "source": [
    "alphas = np.logspace(-2, 0, 20)\n",
    "sgd_logit = SGDClassifier(loss='log', n_jobs=-1, random_state=17)\n",
    "logit_pipe = Pipeline([('scaler', StandardScaler()), ('poly', PolynomialFeatures(degree=2)), \n",
    "                       ('sgd_logit', sgd_logit)])\n",
    "val_train, val_test = validation_curve(logit_pipe, X, y,\n",
    "                                       'sgd_logit__alpha', alphas, cv=5,\n",
    "                                       scoring='roc_auc')"
   ]
  },
  {
   "cell_type": "markdown",
   "metadata": {},
   "source": [
    "Побудуємо валідаційні криві, що показують, як якість (ROC AUC) за навчальною та валідаційною вибірками змінюється зі зміною параметра регуляризації."
   ]
  },
  {
   "cell_type": "code",
   "execution_count": 29,
   "metadata": {},
   "outputs": [
    {
     "data": {
      "image/png": "[encoded data removed]",
      "text/plain": [
       "<Figure size 432x288 with 1 Axes>"
      ]
     },
     "metadata": {
      "needs_background": "light"
     },
     "output_type": "display_data"
    }
   ],
   "source": [
    "def plot_with_err(x, data, **kwargs):\n",
    "    mu, std = data.mean(1), data.std(1)\n",
    "    lines = plt.plot(x, mu, '-', **kwargs)\n",
    "    plt.fill_between(x, mu - std, mu + std, edgecolor='none',\n",
    "                     facecolor=lines[0].get_color(), alpha=0.2)\n",
    "\n",
    "plot_with_err(alphas, val_train, label='training scores')\n",
    "plot_with_err(alphas, val_test, label='validation scores')\n",
    "plt.xlabel(r'$\\alpha$'); plt.ylabel('ROC AUC')\n",
    "plt.legend();"
   ]
  },
  {
   "cell_type": "markdown",
   "metadata": {},
   "source": [
    "Тенденцію видно відразу, і вона дуже часто зустрічається.\n",
    "\n",
    "1. Для простих моделей навчальна та валідаційна помилка перебувають приблизно поруч, і вони великі. Це говорить про те, що модель *недонавчилась*: тобто вона не має достатню кількість параметрів.\n",
    "\n",
    "2. Для сильно ускладнених моделей навчальна та валідаційна помилки значно відрізняються. Це можна пояснити *перенавчанням*: коли параметрів занадто багато або не вистачає регуляризації, алгоритм може \"відволікатися\" на шум в даних й не враховувати упускати основний тренд."
   ]
  },
  {
   "cell_type": "markdown",
   "metadata": {},
   "source": [
    "<a class=\"anchor\" id=\"4.5.2\"></a>"
   ]
  },
  {
   "cell_type": "markdown",
   "metadata": {},
   "source": [
    "### <span style=\"color:blue; font-size:1.2em;\">4.5.2. Скільки потрібно даних?</span>\n",
    "\n",
    "[Повернутися до змісту](#4-2)"
   ]
  },
  {
   "cell_type": "markdown",
   "metadata": {},
   "source": [
    "Відомо, що чим більше даних використовує модель, тим краще. Але як нам зрозуміти в конкретній ситуації, чи допоможуть нові дані? Скажімо, чи доцільно нам витратити \\$ N на роботу асесорів, щоб збільшити вибірку вдвічі?\n",
    "\n",
    "Оскільки нових даних поки може і не бути, розумно змінювати розмір наявної навчальної вибірки та дивитися, як якість розв'язку задачі залежить від обсягу даних, за якими ми навчали модель. У такий спосіб отримують *криві навчання* (*learning curves*).\n",
    "\n",
    "Ідея проста: ми відображаємо помилку, як функцію від кількості прикладів, що використовуються для навчання. Водночас параметри моделі фіксуються заздалегідь."
   ]
  },
  {
   "cell_type": "code",
   "execution_count": 30,
   "metadata": {},
   "outputs": [],
   "source": [
    "from sklearn.model_selection import learning_curve\n",
    "\n",
    "def plot_learning_curve(degree=2, alpha=0.01):\n",
    "    train_sizes = np.linspace(0.05, 1, 20)\n",
    "    logit_pipe = Pipeline([('scaler', StandardScaler()), ('poly', PolynomialFeatures(degree=degree)), \n",
    "                           ('sgd_logit', SGDClassifier(n_jobs=-1, random_state=17, alpha=alpha))])\n",
    "    N_train, val_train, val_test = learning_curve(logit_pipe,\n",
    "                                                  X, y, train_sizes=train_sizes, cv=5,\n",
    "                                                  scoring='roc_auc')\n",
    "    plot_with_err(N_train, val_train, label='training scores')\n",
    "    plot_with_err(N_train, val_test, label='validation scores')\n",
    "    plt.xlabel('Training Set Size'); plt.ylabel('AUC')\n",
    "    plt.legend()"
   ]
  },
  {
   "cell_type": "markdown",
   "metadata": {},
   "source": [
    "Давайте глянемо, що ми отримаємо для лінійної моделі. Коефіцієнт регуляризації поставимо великим."
   ]
  },
  {
   "cell_type": "code",
   "execution_count": 31,
   "metadata": {},
   "outputs": [
    {
     "data": {
      "image/png": "[encoded data removed]",
      "text/plain": [
       "<Figure size 432x288 with 1 Axes>"
      ]
     },
     "metadata": {
      "needs_background": "light"
     },
     "output_type": "display_data"
    }
   ],
   "source": [
    "plot_learning_curve(degree=2, alpha=10)"
   ]
  },
  {
   "cell_type": "markdown",
   "metadata": {},
   "source": [
    "Типова ситуація: для невеликого обсягу даних помилки за навчальною вибіркою й в процесі крос-валідації досить сильно відрізняються, що вказує на перенавчання. Для тієї ж моделі, але з великим об'ємом даних помилки \"збігаються\", що вказує на недонавчання.\n",
    "\n",
    "Якщо додати ще дані, то помилка за навчальною вибіркою не буде рости, але з іншого боку, помилка за тестовими даними не буде зменшуватися.\n",
    "\n",
    "Виходить, що помилки \"зійшлися\", і додавання нових даних не допоможе. Зокрема цей випадок – найцікавіший з точки зору бізнесу. Можлива ситуація, коли ми збільшуємо вибірку в 10 разів. Але якщо не міняти складність моделі, це може і не допомогти. Тобто стратегія \"налаштував один раз м далі використовую 10 раз\" може і не працювати.\n",
    "\n",
    "Що буде, якщо змінити коефіцієнт регуляризації?\n",
    "Бачимо хорошу тенденцію – криві поступово збігаються, і якщо далі рухатися вправо (додавати в модель дані), можна ще підвищити якість за валідаційними даними."
   ]
  },
  {
   "cell_type": "code",
   "execution_count": 32,
   "metadata": {},
   "outputs": [
    {
     "data": {
      "image/png": "[encoded data removed]",
      "text/plain": [
       "<Figure size 432x288 with 1 Axes>"
      ]
     },
     "metadata": {
      "needs_background": "light"
     },
     "output_type": "display_data"
    }
   ],
   "source": [
    "plot_learning_curve(degree=2, alpha=0.05)"
   ]
  },
  {
   "cell_type": "markdown",
   "metadata": {},
   "source": [
    "А якщо ускладнити ще більше?\n",
    "\n",
    "Проявляється перенавчання – AUC падає як під час навчання, так і під час валідації."
   ]
  },
  {
   "cell_type": "code",
   "execution_count": 33,
   "metadata": {},
   "outputs": [
    {
     "data": {
      "image/png": "[encoded data removed]",
      "text/plain": [
       "<Figure size 432x288 with 1 Axes>"
      ]
     },
     "metadata": {
      "needs_background": "light"
     },
     "output_type": "display_data"
    }
   ],
   "source": [
    "plot_learning_curve(degree=2, alpha=1e-4)"
   ]
  },
  {
   "cell_type": "markdown",
   "metadata": {},
   "source": [
    "Будуючи подібні криві, можна зрозуміти, куди рухатися, і як правильно налаштувати складність моделі за новими даними."
   ]
  },
  {
   "cell_type": "markdown",
   "metadata": {},
   "source": [
    "## Висновки"
   ]
  },
  {
   "cell_type": "markdown",
   "metadata": {},
   "source": [
    "1. Помилка за навчальною вибіркою сама по собі нічого не говорить щодо якості моделі.\n",
    "2. Крос-валідаційна помилка показує, наскільки добре модель підлаштовується під дані (наявний тренд в даних), зберігаючи при цьому здатність узагальнення за новими даними.\n",
    "3. *Валідаційна крива* – це графік, який показує результат за навчальною та валідаційною вибірками залежно від *складності моделі*:\n",
    "   - якщо дві криві розташовуються близько одна до дної, а обидві помилки великі – це ознака *недонавчання*;\n",
    "   - Якщо дві криві далеко одна від одної – це індикатор *перенавчання*.\n",
    "4. *Крива навчання* – це графік, який показує результати за навчальною та валідаційною вибірками залежно від кількості спостережень:\n",
    "   - якщо криві збіглися одна до одної, додавання нових даних не допоможе – треба міняти складність моделі;\n",
    "   - якщо криві не зійшлися, додавання нових даних може поліпшити результат."
   ]
  },
  {
   "cell_type": "code",
   "execution_count": null,
   "metadata": {},
   "outputs": [],
   "source": []
  }
 ],
 "metadata": {
  "anaconda-cloud": {},
  "kernelspec": {
   "display_name": "Python 3",
   "language": "python",
   "name": "python3"
  },
  "language_info": {
   "codemirror_mode": {
    "name": "ipython",
    "version": 3
   },
   "file_extension": ".py",
   "mimetype": "text/x-python",
   "name": "python",
   "nbconvert_exporter": "python",
   "pygments_lexer": "ipython3",
   "version": "3.8.8"
  }
 },
 "nbformat": 4,
 "nbformat_minor": 4
}
